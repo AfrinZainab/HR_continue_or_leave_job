{
 "cells": [
  {
   "cell_type": "code",
   "execution_count": 5,
   "metadata": {},
   "outputs": [],
   "source": [
    "import os\n",
    "import numpy as np\n",
    "import pandas as pd\n",
    "import matplotlib.pyplot as plt\n",
    "import seaborn as sns\n",
    "import plotly.graph_objects as go\n",
    "import plotly.express as px\n",
    "from sklearn.model_selection import train_test_split\n",
    "from sklearn import tree , metrics, preprocessing\n",
    "from sklearn.ensemble import RandomForestClassifier\n",
    "from sklearn.model_selection import RandomizedSearchCV\n",
    "from sklearn.metrics import confusion_matrix, classification_report\n",
    "\n",
    "%matplotlib inline"
   ]
  },
  {
   "cell_type": "code",
   "execution_count": 6,
   "metadata": {},
   "outputs": [],
   "source": [
    "os.chdir(\"E:\\\\Data science online\\\\Kaggle\\\\archive\")"
   ]
  },
  {
   "cell_type": "code",
   "execution_count": 7,
   "metadata": {},
   "outputs": [],
   "source": [
    "df=pd.read_csv(\"aug_train.csv\")"
   ]
  },
  {
   "cell_type": "code",
   "execution_count": 8,
   "metadata": {},
   "outputs": [
    {
     "data": {
      "text/plain": [
       "(19158, 14)"
      ]
     },
     "execution_count": 8,
     "metadata": {},
     "output_type": "execute_result"
    }
   ],
   "source": [
    "df.shape"
   ]
  },
  {
   "cell_type": "code",
   "execution_count": 9,
   "metadata": {},
   "outputs": [],
   "source": [
    "test=pd.read_csv(\"aug_test.csv\")"
   ]
  },
  {
   "cell_type": "code",
   "execution_count": 10,
   "metadata": {},
   "outputs": [
    {
     "data": {
      "text/plain": [
       "(2129, 13)"
      ]
     },
     "execution_count": 10,
     "metadata": {},
     "output_type": "execute_result"
    }
   ],
   "source": [
    "test.shape"
   ]
  },
  {
   "cell_type": "code",
   "execution_count": 11,
   "metadata": {},
   "outputs": [
    {
     "data": {
      "text/html": [
       "<div>\n",
       "<style scoped>\n",
       "    .dataframe tbody tr th:only-of-type {\n",
       "        vertical-align: middle;\n",
       "    }\n",
       "\n",
       "    .dataframe tbody tr th {\n",
       "        vertical-align: top;\n",
       "    }\n",
       "\n",
       "    .dataframe thead th {\n",
       "        text-align: right;\n",
       "    }\n",
       "</style>\n",
       "<table border=\"1\" class=\"dataframe\">\n",
       "  <thead>\n",
       "    <tr style=\"text-align: right;\">\n",
       "      <th></th>\n",
       "      <th>enrollee_id</th>\n",
       "      <th>city</th>\n",
       "      <th>city_development_index</th>\n",
       "      <th>gender</th>\n",
       "      <th>relevent_experience</th>\n",
       "      <th>enrolled_university</th>\n",
       "      <th>education_level</th>\n",
       "      <th>major_discipline</th>\n",
       "      <th>experience</th>\n",
       "      <th>company_size</th>\n",
       "      <th>company_type</th>\n",
       "      <th>last_new_job</th>\n",
       "      <th>training_hours</th>\n",
       "      <th>target</th>\n",
       "    </tr>\n",
       "  </thead>\n",
       "  <tbody>\n",
       "    <tr>\n",
       "      <th>0</th>\n",
       "      <td>8949</td>\n",
       "      <td>city_103</td>\n",
       "      <td>0.920</td>\n",
       "      <td>Male</td>\n",
       "      <td>Has relevent experience</td>\n",
       "      <td>no_enrollment</td>\n",
       "      <td>Graduate</td>\n",
       "      <td>STEM</td>\n",
       "      <td>&gt;20</td>\n",
       "      <td>NaN</td>\n",
       "      <td>NaN</td>\n",
       "      <td>1</td>\n",
       "      <td>36</td>\n",
       "      <td>1.0</td>\n",
       "    </tr>\n",
       "    <tr>\n",
       "      <th>1</th>\n",
       "      <td>29725</td>\n",
       "      <td>city_40</td>\n",
       "      <td>0.776</td>\n",
       "      <td>Male</td>\n",
       "      <td>No relevent experience</td>\n",
       "      <td>no_enrollment</td>\n",
       "      <td>Graduate</td>\n",
       "      <td>STEM</td>\n",
       "      <td>15</td>\n",
       "      <td>50-99</td>\n",
       "      <td>Pvt Ltd</td>\n",
       "      <td>&gt;4</td>\n",
       "      <td>47</td>\n",
       "      <td>0.0</td>\n",
       "    </tr>\n",
       "    <tr>\n",
       "      <th>2</th>\n",
       "      <td>11561</td>\n",
       "      <td>city_21</td>\n",
       "      <td>0.624</td>\n",
       "      <td>NaN</td>\n",
       "      <td>No relevent experience</td>\n",
       "      <td>Full time course</td>\n",
       "      <td>Graduate</td>\n",
       "      <td>STEM</td>\n",
       "      <td>5</td>\n",
       "      <td>NaN</td>\n",
       "      <td>NaN</td>\n",
       "      <td>never</td>\n",
       "      <td>83</td>\n",
       "      <td>0.0</td>\n",
       "    </tr>\n",
       "    <tr>\n",
       "      <th>3</th>\n",
       "      <td>33241</td>\n",
       "      <td>city_115</td>\n",
       "      <td>0.789</td>\n",
       "      <td>NaN</td>\n",
       "      <td>No relevent experience</td>\n",
       "      <td>NaN</td>\n",
       "      <td>Graduate</td>\n",
       "      <td>Business Degree</td>\n",
       "      <td>&lt;1</td>\n",
       "      <td>NaN</td>\n",
       "      <td>Pvt Ltd</td>\n",
       "      <td>never</td>\n",
       "      <td>52</td>\n",
       "      <td>1.0</td>\n",
       "    </tr>\n",
       "    <tr>\n",
       "      <th>4</th>\n",
       "      <td>666</td>\n",
       "      <td>city_162</td>\n",
       "      <td>0.767</td>\n",
       "      <td>Male</td>\n",
       "      <td>Has relevent experience</td>\n",
       "      <td>no_enrollment</td>\n",
       "      <td>Masters</td>\n",
       "      <td>STEM</td>\n",
       "      <td>&gt;20</td>\n",
       "      <td>50-99</td>\n",
       "      <td>Funded Startup</td>\n",
       "      <td>4</td>\n",
       "      <td>8</td>\n",
       "      <td>0.0</td>\n",
       "    </tr>\n",
       "  </tbody>\n",
       "</table>\n",
       "</div>"
      ],
      "text/plain": [
       "   enrollee_id      city  city_development_index gender  \\\n",
       "0         8949  city_103                   0.920   Male   \n",
       "1        29725   city_40                   0.776   Male   \n",
       "2        11561   city_21                   0.624    NaN   \n",
       "3        33241  city_115                   0.789    NaN   \n",
       "4          666  city_162                   0.767   Male   \n",
       "\n",
       "       relevent_experience enrolled_university education_level  \\\n",
       "0  Has relevent experience       no_enrollment        Graduate   \n",
       "1   No relevent experience       no_enrollment        Graduate   \n",
       "2   No relevent experience    Full time course        Graduate   \n",
       "3   No relevent experience                 NaN        Graduate   \n",
       "4  Has relevent experience       no_enrollment         Masters   \n",
       "\n",
       "  major_discipline experience company_size    company_type last_new_job  \\\n",
       "0             STEM        >20          NaN             NaN            1   \n",
       "1             STEM         15        50-99         Pvt Ltd           >4   \n",
       "2             STEM          5          NaN             NaN        never   \n",
       "3  Business Degree         <1          NaN         Pvt Ltd        never   \n",
       "4             STEM        >20        50-99  Funded Startup            4   \n",
       "\n",
       "   training_hours  target  \n",
       "0              36     1.0  \n",
       "1              47     0.0  \n",
       "2              83     0.0  \n",
       "3              52     1.0  \n",
       "4               8     0.0  "
      ]
     },
     "execution_count": 11,
     "metadata": {},
     "output_type": "execute_result"
    }
   ],
   "source": [
    "df.head()"
   ]
  },
  {
   "cell_type": "code",
   "execution_count": 14,
   "metadata": {},
   "outputs": [],
   "source": [
    "def gender_to_numeric(x):\n",
    "    if x=='Female': return 2\n",
    "    if x=='Male':   return 1\n",
    "    if x=='Other':   return 0\n",
    "    \n",
    "def rel_experience(x):\n",
    "    if x=='Has relevent experience': return 1\n",
    "    if x=='No relevent experience':   return 0\n",
    "    \n",
    "def enrollment(x):\n",
    "    if x=='no_enrollment'   : return 0\n",
    "    if x=='Full time course':   return 1 \n",
    "    if x=='Part time course':   return 2 \n",
    "    \n",
    "def edu_level(x):\n",
    "    if x=='Graduate'       :   return 0\n",
    "    if x=='Masters'        :   return 1 \n",
    "    if x=='High School'    :   return 2 \n",
    "    if x=='Phd'            :   return 3 \n",
    "    if x=='Primary School' :   return 4 \n",
    "    \n",
    "def major(x):\n",
    "    if x=='STEM'                   :   return 0\n",
    "    if x=='Business Degree'        :   return 1 \n",
    "    if x=='Arts'                   :   return 2 \n",
    "    if x=='Humanities'             :   return 3 \n",
    "    if x=='No Major'               :   return 4 \n",
    "    if x=='Other'                  :   return 5 \n",
    "    \n",
    "def experience(x):\n",
    "    if x=='<1'      :   return 0\n",
    "    if x=='1'       :   return 1 \n",
    "    if x=='2'       :   return 2 \n",
    "    if x=='3'       :   return 3 \n",
    "    if x=='4'       :   return 4 \n",
    "    if x=='5'       :   return 5\n",
    "    if x=='6'       :   return 6\n",
    "    if x=='7'       :   return 7\n",
    "    if x=='8'       :   return 8 \n",
    "    if x=='9'       :   return 9 \n",
    "    if x=='10'      :   return 10 \n",
    "    if x=='11'      :   return 11\n",
    "    if x=='12'      :   return 12\n",
    "    if x=='13'      :   return 13 \n",
    "    if x=='14'      :   return 14 \n",
    "    if x=='15'      :   return 15 \n",
    "    if x=='16'      :   return 16\n",
    "    if x=='17'      :   return 17\n",
    "    if x=='18'      :   return 18\n",
    "    if x=='19'      :   return 19 \n",
    "    if x=='20'      :   return 20 \n",
    "    if x=='>20'     :   return 21 \n",
    "    \n",
    "def company_t(x):\n",
    "    if x=='Pvt Ltd'               :   return 0\n",
    "    if x=='Funded Startup'        :   return 1 \n",
    "    if x=='Early Stage Startup'   :   return 2 \n",
    "    if x=='Other'                 :   return 3 \n",
    "    if x=='Public Sector'         :   return 4 \n",
    "    if x=='NGO'                   :   return 5 \n",
    "    \n",
    "def company_s(x):\n",
    "    if x=='<10'          :   return 0\n",
    "    if x=='10/49'        :   return 1 \n",
    "    if x=='100-500'      :   return 2 \n",
    "    if x=='1000-4999'    :   return 3 \n",
    "    if x=='10000+'       :   return 4 \n",
    "    if x=='50-99'        :   return 5 \n",
    "    if x=='500-999'      :   return 6 \n",
    "    if x=='5000-9999'    :   return 7\n",
    "    \n",
    "def last_job(x):\n",
    "    if x=='never'        :   return 0\n",
    "    if x=='1'            :   return 1 \n",
    "    if x=='2'            :   return 2 \n",
    "    if x=='3'            :   return 3 \n",
    "    if x=='4'            :   return 4 \n",
    "    if x=='>4'           :   return 5 "
   ]
  },
  {
   "cell_type": "code",
   "execution_count": 15,
   "metadata": {},
   "outputs": [],
   "source": [
    "def city(x):\n",
    "    if x=='city_103'         : return  0\n",
    "    if x=='city_40'          : return  1\n",
    "    if x=='city_21'          : return  2\n",
    "    if x=='city_115'         : return  3\n",
    "    if x=='city_162'         : return  4\n",
    "    if x=='city_176'         : return  5\n",
    "    if x=='city_160'         : return  6\n",
    "    if x=='city_46'          : return  7\n",
    "    if x=='city_61'          : return  8\n",
    "    if x=='city_114'         : return  9\n",
    "    if x=='city_13'          : return  10\n",
    "    if x=='city_159'         : return  11\n",
    "    if x=='city_102'         : return  12\n",
    "    if x=='city_67'          : return  13\n",
    "    if x=='city_100'         : return  14\n",
    "    if x=='city_16'          : return  15\n",
    "    if x=='city_71'          : return  16\n",
    "    if x=='city_104'         : return  17\n",
    "    if x=='city_64'          : return  18\n",
    "    if x=='city_101'         : return  19\n",
    "    if x=='city_83'          : return  20\n",
    "    if x=='city_105'         : return  21\n",
    "    if x=='city_73'          : return  22\n",
    "    if x=='city_75'          : return  23\n",
    "    if x=='city_41'          : return  24\n",
    "    if x=='city_11'          : return  25\n",
    "    if x=='city_93'          : return  26\n",
    "    if x=='city_90'          : return  27\n",
    "    if x=='city_36'          : return  28\n",
    "    if x=='city_20'          : return  29\n",
    "    if x=='city_57'          : return  30\n",
    "    if x=='city_152'         : return  31\n",
    "    if x=='city_19'          : return  32\n",
    "    if x=='city_65'          : return  33\n",
    "    if x=='city_74'          : return  34\n",
    "    if x=='city_173'         : return  35\n",
    "    if x=='city_136'         : return  36\n",
    "    if x=='city_98'          : return  37\n",
    "    if x=='city_97'          : return  38\n",
    "    if x=='city_50'          : return  39\n",
    "    if x=='city_138'         : return  40\n",
    "    if x=='city_82'          : return  41\n",
    "    if x=='city_157'         : return  42\n",
    "    if x=='city_89'          : return  43\n",
    "    if x=='city_150'         : return  44\n",
    "    if x=='city_70'          : return  45\n",
    "    if x=='city_175'         : return  46\n",
    "    if x=='city_94'          : return  47\n",
    "    if x=='city_28'          : return  48\n",
    "    if x=='city_59'          : return  49\n",
    "    if x=='city_165'         : return  50\n",
    "    if x=='city_145'         : return  51\n",
    "    if x=='city_142'         : return  52\n",
    "    if x=='city_26'          : return  53\n",
    "    if x=='city_12'          : return  54\n",
    "    if x=='city_37'          : return  55\n",
    "    if x=='city_43'          : return  56\n",
    "    if x=='city_116'         : return  57\n",
    "    if x=='city_23'          : return  58\n",
    "    if x=='city_99'          : return  59\n",
    "    if x=='city_149'         : return  60\n",
    "    if x=='city_10'          : return  61\n",
    "    if x=='city_45'          : return  62\n",
    "    if x=='city_80'          : return  63\n",
    "    if x=='city_128'         : return  64\n",
    "    if x=='city_158'         : return  65\n",
    "    if x=='city_123'         : return  66\n",
    "    if x=='city_7'           : return  67\n",
    "    if x=='city_72'          : return  68\n",
    "    if x=='city_106'         : return  69\n",
    "    if x=='city_143'         : return  70\n",
    "    if x=='city_78'          : return  71\n",
    "    if x=='city_109'         : return  72\n",
    "    if x=='city_24'          : return  73\n",
    "    if x=='city_134'         : return  74\n",
    "    if x=='city_48'          : return  75\n",
    "    if x=='city_144'         : return  76\n",
    "    if x=='city_91'          : return  77\n",
    "    if x=='city_146'         : return  78\n",
    "    if x=='city_133'         : return  79\n",
    "    if x=='city_126'         : return  80\n",
    "    if x=='city_118'         : return  81\n",
    "    if x=='city_9'           : return  82\n",
    "    if x=='city_167'         : return  83\n",
    "    if x=='city_27'          : return  84\n",
    "    if x=='city_84'          : return  85\n",
    "    if x=='city_54'          : return  86\n",
    "    if x=='city_39'          : return  87\n",
    "    if x=='city_79'          : return  88\n",
    "    if x=='city_76'          : return  89\n",
    "    if x=='city_77'          : return  90\n",
    "    if x=='city_81'          : return  91\n",
    "    if x=='city_131'         : return  92\n",
    "    if x=='city_44'          : return  93\n",
    "    if x=='city_117'         : return  94\n",
    "    if x=='city_155'         : return  95\n",
    "    if x=='city_33'          : return  96\n",
    "    if x=='city_141'         : return  97\n",
    "    if x=='city_127'         : return  98\n",
    "    if x=='city_62'          : return  99\n",
    "    if x=='city_53'          : return  100\n",
    "    if x=='city_25'          : return  101\n",
    "    if x=='city_2'           : return  102\n",
    "    if x=='city_69'          : return  103\n",
    "    if x=='city_120'         : return  104\n",
    "    if x=='city_111'         : return  105\n",
    "    if x=='city_30'          : return  106\n",
    "    if x=='city_1'           : return  107\n",
    "    if x=='city_140'         : return  108\n",
    "    if x=='city_179'         : return  109\n",
    "    if x=='city_55'          : return  110\n",
    "    if x=='city_14'          : return  111\n",
    "    if x=='city_42'          : return  112\n",
    "    if x=='city_107'         : return  113\n",
    "    if x=='city_18'          : return  114\n",
    "    if x=='city_139'         : return  115\n",
    "    if x=='city_180'         : return  116\n",
    "    if x=='city_166'         : return  117\n",
    "    if x=='city_121'         : return  118\n",
    "    if x=='city_129'         : return  119\n",
    "    if x=='city_8'           : return  120\n",
    "    if x=='city_31'          : return  121\n",
    "    if x=='city_171'         : return  122\n"
   ]
  },
  {
   "cell_type": "code",
   "execution_count": 16,
   "metadata": {},
   "outputs": [],
   "source": [
    "df['gender'] = df['gender'].apply(gender_to_numeric)\n",
    "df['relevent_experience'] = df['relevent_experience'].apply(rel_experience)\n",
    "df['enrolled_university'] = df['enrolled_university'].apply(enrollment)\n",
    "df['education_level'] = df['education_level'].apply(edu_level)\n",
    "df['major_discipline'] = df['major_discipline'].apply(major)\n",
    "df['experience'] = df['experience'].apply(experience)\n",
    "df['company_type'] = df['company_type'].apply(company_t)\n",
    "df['company_size'] = df['company_size'].apply(company_s)\n",
    "df['last_new_job'] = df['last_new_job'].apply(last_job)\n",
    "df['city'] = df['city'].apply(city)"
   ]
  },
  {
   "cell_type": "code",
   "execution_count": 17,
   "metadata": {},
   "outputs": [],
   "source": [
    "test['gender'] = test['gender'].apply(gender_to_numeric)\n",
    "test['relevent_experience'] = test['relevent_experience'].apply(rel_experience)\n",
    "test['enrolled_university'] = test['enrolled_university'].apply(enrollment)\n",
    "test['education_level'] = test['education_level'].apply(edu_level)\n",
    "test['major_discipline'] = test['major_discipline'].apply(major)\n",
    "test['experience'] = test['experience'].apply(experience)\n",
    "test['company_type'] = test['company_type'].apply(company_t)\n",
    "test['company_size'] = test['company_size'].apply(company_s)\n",
    "test['last_new_job'] = test['last_new_job'].apply(last_job)\n",
    "test['city'] = test['city'].apply(city)"
   ]
  },
  {
   "cell_type": "code",
   "execution_count": 206,
   "metadata": {},
   "outputs": [
    {
     "data": {
      "text/html": [
       "<div>\n",
       "<style scoped>\n",
       "    .dataframe tbody tr th:only-of-type {\n",
       "        vertical-align: middle;\n",
       "    }\n",
       "\n",
       "    .dataframe tbody tr th {\n",
       "        vertical-align: top;\n",
       "    }\n",
       "\n",
       "    .dataframe thead th {\n",
       "        text-align: right;\n",
       "    }\n",
       "</style>\n",
       "<table border=\"1\" class=\"dataframe\">\n",
       "  <thead>\n",
       "    <tr style=\"text-align: right;\">\n",
       "      <th></th>\n",
       "      <th>enrollee_id</th>\n",
       "      <th>city</th>\n",
       "      <th>city_development_index</th>\n",
       "      <th>gender</th>\n",
       "      <th>relevent_experience</th>\n",
       "      <th>enrolled_university</th>\n",
       "      <th>education_level</th>\n",
       "      <th>major_discipline</th>\n",
       "      <th>experience</th>\n",
       "      <th>company_size</th>\n",
       "      <th>company_type</th>\n",
       "      <th>last_new_job</th>\n",
       "      <th>training_hours</th>\n",
       "      <th>target</th>\n",
       "    </tr>\n",
       "  </thead>\n",
       "  <tbody>\n",
       "    <tr>\n",
       "      <th>0</th>\n",
       "      <td>8949</td>\n",
       "      <td>0</td>\n",
       "      <td>0.920</td>\n",
       "      <td>Male</td>\n",
       "      <td>Has relevent experience</td>\n",
       "      <td>no_enrollment</td>\n",
       "      <td>Graduate</td>\n",
       "      <td>STEM</td>\n",
       "      <td>&gt;20</td>\n",
       "      <td>NaN</td>\n",
       "      <td>NaN</td>\n",
       "      <td>1</td>\n",
       "      <td>36</td>\n",
       "      <td>1.0</td>\n",
       "    </tr>\n",
       "    <tr>\n",
       "      <th>1</th>\n",
       "      <td>29725</td>\n",
       "      <td>1</td>\n",
       "      <td>0.776</td>\n",
       "      <td>Male</td>\n",
       "      <td>No relevent experience</td>\n",
       "      <td>no_enrollment</td>\n",
       "      <td>Graduate</td>\n",
       "      <td>STEM</td>\n",
       "      <td>15</td>\n",
       "      <td>50-99</td>\n",
       "      <td>Pvt Ltd</td>\n",
       "      <td>&gt;4</td>\n",
       "      <td>47</td>\n",
       "      <td>0.0</td>\n",
       "    </tr>\n",
       "    <tr>\n",
       "      <th>2</th>\n",
       "      <td>11561</td>\n",
       "      <td>2</td>\n",
       "      <td>0.624</td>\n",
       "      <td>NaN</td>\n",
       "      <td>No relevent experience</td>\n",
       "      <td>Full time course</td>\n",
       "      <td>Graduate</td>\n",
       "      <td>STEM</td>\n",
       "      <td>5</td>\n",
       "      <td>NaN</td>\n",
       "      <td>NaN</td>\n",
       "      <td>never</td>\n",
       "      <td>83</td>\n",
       "      <td>0.0</td>\n",
       "    </tr>\n",
       "    <tr>\n",
       "      <th>3</th>\n",
       "      <td>33241</td>\n",
       "      <td>3</td>\n",
       "      <td>0.789</td>\n",
       "      <td>NaN</td>\n",
       "      <td>No relevent experience</td>\n",
       "      <td>NaN</td>\n",
       "      <td>Graduate</td>\n",
       "      <td>Business Degree</td>\n",
       "      <td>&lt;1</td>\n",
       "      <td>NaN</td>\n",
       "      <td>Pvt Ltd</td>\n",
       "      <td>never</td>\n",
       "      <td>52</td>\n",
       "      <td>1.0</td>\n",
       "    </tr>\n",
       "    <tr>\n",
       "      <th>4</th>\n",
       "      <td>666</td>\n",
       "      <td>4</td>\n",
       "      <td>0.767</td>\n",
       "      <td>Male</td>\n",
       "      <td>Has relevent experience</td>\n",
       "      <td>no_enrollment</td>\n",
       "      <td>Masters</td>\n",
       "      <td>STEM</td>\n",
       "      <td>&gt;20</td>\n",
       "      <td>50-99</td>\n",
       "      <td>Funded Startup</td>\n",
       "      <td>4</td>\n",
       "      <td>8</td>\n",
       "      <td>0.0</td>\n",
       "    </tr>\n",
       "    <tr>\n",
       "      <th>5</th>\n",
       "      <td>21651</td>\n",
       "      <td>5</td>\n",
       "      <td>0.764</td>\n",
       "      <td>NaN</td>\n",
       "      <td>Has relevent experience</td>\n",
       "      <td>Part time course</td>\n",
       "      <td>Graduate</td>\n",
       "      <td>STEM</td>\n",
       "      <td>11</td>\n",
       "      <td>NaN</td>\n",
       "      <td>NaN</td>\n",
       "      <td>1</td>\n",
       "      <td>24</td>\n",
       "      <td>1.0</td>\n",
       "    </tr>\n",
       "    <tr>\n",
       "      <th>6</th>\n",
       "      <td>28806</td>\n",
       "      <td>6</td>\n",
       "      <td>0.920</td>\n",
       "      <td>Male</td>\n",
       "      <td>Has relevent experience</td>\n",
       "      <td>no_enrollment</td>\n",
       "      <td>High School</td>\n",
       "      <td>NaN</td>\n",
       "      <td>5</td>\n",
       "      <td>50-99</td>\n",
       "      <td>Funded Startup</td>\n",
       "      <td>1</td>\n",
       "      <td>24</td>\n",
       "      <td>0.0</td>\n",
       "    </tr>\n",
       "    <tr>\n",
       "      <th>7</th>\n",
       "      <td>402</td>\n",
       "      <td>7</td>\n",
       "      <td>0.762</td>\n",
       "      <td>Male</td>\n",
       "      <td>Has relevent experience</td>\n",
       "      <td>no_enrollment</td>\n",
       "      <td>Graduate</td>\n",
       "      <td>STEM</td>\n",
       "      <td>13</td>\n",
       "      <td>&lt;10</td>\n",
       "      <td>Pvt Ltd</td>\n",
       "      <td>&gt;4</td>\n",
       "      <td>18</td>\n",
       "      <td>1.0</td>\n",
       "    </tr>\n",
       "    <tr>\n",
       "      <th>8</th>\n",
       "      <td>27107</td>\n",
       "      <td>0</td>\n",
       "      <td>0.920</td>\n",
       "      <td>Male</td>\n",
       "      <td>Has relevent experience</td>\n",
       "      <td>no_enrollment</td>\n",
       "      <td>Graduate</td>\n",
       "      <td>STEM</td>\n",
       "      <td>7</td>\n",
       "      <td>50-99</td>\n",
       "      <td>Pvt Ltd</td>\n",
       "      <td>1</td>\n",
       "      <td>46</td>\n",
       "      <td>1.0</td>\n",
       "    </tr>\n",
       "    <tr>\n",
       "      <th>9</th>\n",
       "      <td>699</td>\n",
       "      <td>0</td>\n",
       "      <td>0.920</td>\n",
       "      <td>NaN</td>\n",
       "      <td>Has relevent experience</td>\n",
       "      <td>no_enrollment</td>\n",
       "      <td>Graduate</td>\n",
       "      <td>STEM</td>\n",
       "      <td>17</td>\n",
       "      <td>10000+</td>\n",
       "      <td>Pvt Ltd</td>\n",
       "      <td>&gt;4</td>\n",
       "      <td>123</td>\n",
       "      <td>0.0</td>\n",
       "    </tr>\n",
       "  </tbody>\n",
       "</table>\n",
       "</div>"
      ],
      "text/plain": [
       "   enrollee_id  city  city_development_index gender      relevent_experience  \\\n",
       "0         8949     0                   0.920   Male  Has relevent experience   \n",
       "1        29725     1                   0.776   Male   No relevent experience   \n",
       "2        11561     2                   0.624    NaN   No relevent experience   \n",
       "3        33241     3                   0.789    NaN   No relevent experience   \n",
       "4          666     4                   0.767   Male  Has relevent experience   \n",
       "5        21651     5                   0.764    NaN  Has relevent experience   \n",
       "6        28806     6                   0.920   Male  Has relevent experience   \n",
       "7          402     7                   0.762   Male  Has relevent experience   \n",
       "8        27107     0                   0.920   Male  Has relevent experience   \n",
       "9          699     0                   0.920    NaN  Has relevent experience   \n",
       "\n",
       "  enrolled_university education_level major_discipline experience  \\\n",
       "0       no_enrollment        Graduate             STEM        >20   \n",
       "1       no_enrollment        Graduate             STEM         15   \n",
       "2    Full time course        Graduate             STEM          5   \n",
       "3                 NaN        Graduate  Business Degree         <1   \n",
       "4       no_enrollment         Masters             STEM        >20   \n",
       "5    Part time course        Graduate             STEM         11   \n",
       "6       no_enrollment     High School              NaN          5   \n",
       "7       no_enrollment        Graduate             STEM         13   \n",
       "8       no_enrollment        Graduate             STEM          7   \n",
       "9       no_enrollment        Graduate             STEM         17   \n",
       "\n",
       "  company_size    company_type last_new_job  training_hours  target  \n",
       "0          NaN             NaN            1              36     1.0  \n",
       "1        50-99         Pvt Ltd           >4              47     0.0  \n",
       "2          NaN             NaN        never              83     0.0  \n",
       "3          NaN         Pvt Ltd        never              52     1.0  \n",
       "4        50-99  Funded Startup            4               8     0.0  \n",
       "5          NaN             NaN            1              24     1.0  \n",
       "6        50-99  Funded Startup            1              24     0.0  \n",
       "7          <10         Pvt Ltd           >4              18     1.0  \n",
       "8        50-99         Pvt Ltd            1              46     1.0  \n",
       "9       10000+         Pvt Ltd           >4             123     0.0  "
      ]
     },
     "execution_count": 206,
     "metadata": {},
     "output_type": "execute_result"
    }
   ],
   "source": [
    "df.head(10)"
   ]
  },
  {
   "cell_type": "code",
   "execution_count": 19,
   "metadata": {},
   "outputs": [
    {
     "data": {
      "text/plain": [
       "enrollee_id                  0\n",
       "city                         0\n",
       "city_development_index       0\n",
       "gender                    4508\n",
       "relevent_experience          0\n",
       "enrolled_university        386\n",
       "education_level            460\n",
       "major_discipline          2813\n",
       "experience                  65\n",
       "company_size              5938\n",
       "company_type              6140\n",
       "last_new_job               423\n",
       "training_hours               0\n",
       "target                       0\n",
       "dtype: int64"
      ]
     },
     "execution_count": 19,
     "metadata": {},
     "output_type": "execute_result"
    }
   ],
   "source": [
    "df.isnull().sum()"
   ]
  },
  {
   "cell_type": "code",
   "execution_count": 20,
   "metadata": {},
   "outputs": [
    {
     "data": {
      "text/plain": [
       "enrollee_id                 0\n",
       "city                        0\n",
       "city_development_index      0\n",
       "gender                    508\n",
       "relevent_experience         0\n",
       "enrolled_university        31\n",
       "education_level            52\n",
       "major_discipline          312\n",
       "experience                  5\n",
       "company_size              622\n",
       "company_type              634\n",
       "last_new_job               40\n",
       "training_hours              0\n",
       "dtype: int64"
      ]
     },
     "execution_count": 20,
     "metadata": {},
     "output_type": "execute_result"
    }
   ],
   "source": [
    "test.isnull().sum()"
   ]
  },
  {
   "cell_type": "code",
   "execution_count": 21,
   "metadata": {},
   "outputs": [],
   "source": [
    "df1=df.dropna().reset_index(drop=True)"
   ]
  },
  {
   "cell_type": "code",
   "execution_count": 22,
   "metadata": {},
   "outputs": [],
   "source": [
    "test=test.dropna().reset_index(drop=True)"
   ]
  },
  {
   "cell_type": "code",
   "execution_count": 25,
   "metadata": {},
   "outputs": [
    {
     "data": {
      "text/plain": [
       "((8955, 14), (1019, 13))"
      ]
     },
     "execution_count": 25,
     "metadata": {},
     "output_type": "execute_result"
    }
   ],
   "source": [
    "df1.shape, test.shape"
   ]
  },
  {
   "cell_type": "code",
   "execution_count": 28,
   "metadata": {},
   "outputs": [
    {
     "data": {
      "text/plain": [
       "0.0    7472\n",
       "1.0    1483\n",
       "Name: target, dtype: int64"
      ]
     },
     "execution_count": 28,
     "metadata": {},
     "output_type": "execute_result"
    }
   ],
   "source": [
    "df1['target'].value_counts()"
   ]
  },
  {
   "cell_type": "code",
   "execution_count": 29,
   "metadata": {},
   "outputs": [
    {
     "data": {
      "text/html": [
       "<div>\n",
       "<style scoped>\n",
       "    .dataframe tbody tr th:only-of-type {\n",
       "        vertical-align: middle;\n",
       "    }\n",
       "\n",
       "    .dataframe tbody tr th {\n",
       "        vertical-align: top;\n",
       "    }\n",
       "\n",
       "    .dataframe thead th {\n",
       "        text-align: right;\n",
       "    }\n",
       "</style>\n",
       "<table border=\"1\" class=\"dataframe\">\n",
       "  <thead>\n",
       "    <tr style=\"text-align: right;\">\n",
       "      <th></th>\n",
       "      <th>enrollee_id</th>\n",
       "      <th>city</th>\n",
       "      <th>city_development_index</th>\n",
       "      <th>gender</th>\n",
       "      <th>relevent_experience</th>\n",
       "      <th>enrolled_university</th>\n",
       "      <th>education_level</th>\n",
       "      <th>major_discipline</th>\n",
       "      <th>experience</th>\n",
       "      <th>company_size</th>\n",
       "      <th>company_type</th>\n",
       "      <th>last_new_job</th>\n",
       "      <th>training_hours</th>\n",
       "      <th>target</th>\n",
       "    </tr>\n",
       "  </thead>\n",
       "  <tbody>\n",
       "    <tr>\n",
       "      <th>enrollee_id</th>\n",
       "      <td>1.000000</td>\n",
       "      <td>-0.019946</td>\n",
       "      <td>-0.040455</td>\n",
       "      <td>0.005157</td>\n",
       "      <td>-0.043359</td>\n",
       "      <td>0.036053</td>\n",
       "      <td>-0.022341</td>\n",
       "      <td>0.026763</td>\n",
       "      <td>-0.035509</td>\n",
       "      <td>0.007650</td>\n",
       "      <td>0.008637</td>\n",
       "      <td>-0.030693</td>\n",
       "      <td>0.000998</td>\n",
       "      <td>0.049475</td>\n",
       "    </tr>\n",
       "    <tr>\n",
       "      <th>city</th>\n",
       "      <td>-0.019946</td>\n",
       "      <td>1.000000</td>\n",
       "      <td>-0.186088</td>\n",
       "      <td>-0.042351</td>\n",
       "      <td>-0.038315</td>\n",
       "      <td>0.078297</td>\n",
       "      <td>0.060693</td>\n",
       "      <td>-0.030375</td>\n",
       "      <td>-0.057182</td>\n",
       "      <td>-0.055790</td>\n",
       "      <td>-0.001269</td>\n",
       "      <td>-0.055140</td>\n",
       "      <td>-0.003640</td>\n",
       "      <td>-0.055564</td>\n",
       "    </tr>\n",
       "    <tr>\n",
       "      <th>city_development_index</th>\n",
       "      <td>-0.040455</td>\n",
       "      <td>-0.186088</td>\n",
       "      <td>1.000000</td>\n",
       "      <td>0.001854</td>\n",
       "      <td>0.059808</td>\n",
       "      <td>-0.132055</td>\n",
       "      <td>0.067905</td>\n",
       "      <td>0.083841</td>\n",
       "      <td>0.333967</td>\n",
       "      <td>0.040640</td>\n",
       "      <td>0.043334</td>\n",
       "      <td>0.188984</td>\n",
       "      <td>0.001920</td>\n",
       "      <td>-0.341665</td>\n",
       "    </tr>\n",
       "    <tr>\n",
       "      <th>gender</th>\n",
       "      <td>0.005157</td>\n",
       "      <td>-0.042351</td>\n",
       "      <td>0.001854</td>\n",
       "      <td>1.000000</td>\n",
       "      <td>-0.008954</td>\n",
       "      <td>-0.019957</td>\n",
       "      <td>-0.024215</td>\n",
       "      <td>0.058221</td>\n",
       "      <td>-0.053272</td>\n",
       "      <td>0.010767</td>\n",
       "      <td>0.062933</td>\n",
       "      <td>-0.014112</td>\n",
       "      <td>0.002555</td>\n",
       "      <td>0.018034</td>\n",
       "    </tr>\n",
       "    <tr>\n",
       "      <th>relevent_experience</th>\n",
       "      <td>-0.043359</td>\n",
       "      <td>-0.038315</td>\n",
       "      <td>0.059808</td>\n",
       "      <td>-0.008954</td>\n",
       "      <td>1.000000</td>\n",
       "      <td>-0.278637</td>\n",
       "      <td>-0.231448</td>\n",
       "      <td>-0.062920</td>\n",
       "      <td>0.340185</td>\n",
       "      <td>-0.001532</td>\n",
       "      <td>-0.171840</td>\n",
       "      <td>0.246657</td>\n",
       "      <td>0.011566</td>\n",
       "      <td>-0.128430</td>\n",
       "    </tr>\n",
       "    <tr>\n",
       "      <th>enrolled_university</th>\n",
       "      <td>0.036053</td>\n",
       "      <td>0.078297</td>\n",
       "      <td>-0.132055</td>\n",
       "      <td>-0.019957</td>\n",
       "      <td>-0.278637</td>\n",
       "      <td>1.000000</td>\n",
       "      <td>0.023179</td>\n",
       "      <td>-0.056798</td>\n",
       "      <td>-0.289641</td>\n",
       "      <td>-0.031621</td>\n",
       "      <td>0.101521</td>\n",
       "      <td>-0.182917</td>\n",
       "      <td>0.003505</td>\n",
       "      <td>0.106561</td>\n",
       "    </tr>\n",
       "    <tr>\n",
       "      <th>education_level</th>\n",
       "      <td>-0.022341</td>\n",
       "      <td>0.060693</td>\n",
       "      <td>0.067905</td>\n",
       "      <td>-0.024215</td>\n",
       "      <td>-0.231448</td>\n",
       "      <td>0.023179</td>\n",
       "      <td>1.000000</td>\n",
       "      <td>-0.008545</td>\n",
       "      <td>-0.040598</td>\n",
       "      <td>-0.012054</td>\n",
       "      <td>0.088032</td>\n",
       "      <td>-0.094425</td>\n",
       "      <td>-0.002487</td>\n",
       "      <td>-0.091101</td>\n",
       "    </tr>\n",
       "    <tr>\n",
       "      <th>major_discipline</th>\n",
       "      <td>0.026763</td>\n",
       "      <td>-0.030375</td>\n",
       "      <td>0.083841</td>\n",
       "      <td>0.058221</td>\n",
       "      <td>-0.062920</td>\n",
       "      <td>-0.056798</td>\n",
       "      <td>-0.008545</td>\n",
       "      <td>1.000000</td>\n",
       "      <td>-0.008107</td>\n",
       "      <td>-0.023635</td>\n",
       "      <td>0.041414</td>\n",
       "      <td>0.018791</td>\n",
       "      <td>-0.001383</td>\n",
       "      <td>-0.014854</td>\n",
       "    </tr>\n",
       "    <tr>\n",
       "      <th>experience</th>\n",
       "      <td>-0.035509</td>\n",
       "      <td>-0.057182</td>\n",
       "      <td>0.333967</td>\n",
       "      <td>-0.053272</td>\n",
       "      <td>0.340185</td>\n",
       "      <td>-0.289641</td>\n",
       "      <td>-0.040598</td>\n",
       "      <td>-0.008107</td>\n",
       "      <td>1.000000</td>\n",
       "      <td>0.043701</td>\n",
       "      <td>-0.039497</td>\n",
       "      <td>0.479033</td>\n",
       "      <td>0.000908</td>\n",
       "      <td>-0.176724</td>\n",
       "    </tr>\n",
       "    <tr>\n",
       "      <th>company_size</th>\n",
       "      <td>0.007650</td>\n",
       "      <td>-0.055790</td>\n",
       "      <td>0.040640</td>\n",
       "      <td>0.010767</td>\n",
       "      <td>-0.001532</td>\n",
       "      <td>-0.031621</td>\n",
       "      <td>-0.012054</td>\n",
       "      <td>-0.023635</td>\n",
       "      <td>0.043701</td>\n",
       "      <td>1.000000</td>\n",
       "      <td>-0.042132</td>\n",
       "      <td>0.044337</td>\n",
       "      <td>0.004497</td>\n",
       "      <td>-0.008695</td>\n",
       "    </tr>\n",
       "    <tr>\n",
       "      <th>company_type</th>\n",
       "      <td>0.008637</td>\n",
       "      <td>-0.001269</td>\n",
       "      <td>0.043334</td>\n",
       "      <td>0.062933</td>\n",
       "      <td>-0.171840</td>\n",
       "      <td>0.101521</td>\n",
       "      <td>0.088032</td>\n",
       "      <td>0.041414</td>\n",
       "      <td>-0.039497</td>\n",
       "      <td>-0.042132</td>\n",
       "      <td>1.000000</td>\n",
       "      <td>-0.024918</td>\n",
       "      <td>0.000433</td>\n",
       "      <td>0.025326</td>\n",
       "    </tr>\n",
       "    <tr>\n",
       "      <th>last_new_job</th>\n",
       "      <td>-0.030693</td>\n",
       "      <td>-0.055140</td>\n",
       "      <td>0.188984</td>\n",
       "      <td>-0.014112</td>\n",
       "      <td>0.246657</td>\n",
       "      <td>-0.182917</td>\n",
       "      <td>-0.094425</td>\n",
       "      <td>0.018791</td>\n",
       "      <td>0.479033</td>\n",
       "      <td>0.044337</td>\n",
       "      <td>-0.024918</td>\n",
       "      <td>1.000000</td>\n",
       "      <td>-0.006276</td>\n",
       "      <td>-0.082607</td>\n",
       "    </tr>\n",
       "    <tr>\n",
       "      <th>training_hours</th>\n",
       "      <td>0.000998</td>\n",
       "      <td>-0.003640</td>\n",
       "      <td>0.001920</td>\n",
       "      <td>0.002555</td>\n",
       "      <td>0.011566</td>\n",
       "      <td>0.003505</td>\n",
       "      <td>-0.002487</td>\n",
       "      <td>-0.001383</td>\n",
       "      <td>0.000908</td>\n",
       "      <td>0.004497</td>\n",
       "      <td>0.000433</td>\n",
       "      <td>-0.006276</td>\n",
       "      <td>1.000000</td>\n",
       "      <td>-0.021577</td>\n",
       "    </tr>\n",
       "    <tr>\n",
       "      <th>target</th>\n",
       "      <td>0.049475</td>\n",
       "      <td>-0.055564</td>\n",
       "      <td>-0.341665</td>\n",
       "      <td>0.018034</td>\n",
       "      <td>-0.128430</td>\n",
       "      <td>0.106561</td>\n",
       "      <td>-0.091101</td>\n",
       "      <td>-0.014854</td>\n",
       "      <td>-0.176724</td>\n",
       "      <td>-0.008695</td>\n",
       "      <td>0.025326</td>\n",
       "      <td>-0.082607</td>\n",
       "      <td>-0.021577</td>\n",
       "      <td>1.000000</td>\n",
       "    </tr>\n",
       "  </tbody>\n",
       "</table>\n",
       "</div>"
      ],
      "text/plain": [
       "                        enrollee_id      city  city_development_index  \\\n",
       "enrollee_id                1.000000 -0.019946               -0.040455   \n",
       "city                      -0.019946  1.000000               -0.186088   \n",
       "city_development_index    -0.040455 -0.186088                1.000000   \n",
       "gender                     0.005157 -0.042351                0.001854   \n",
       "relevent_experience       -0.043359 -0.038315                0.059808   \n",
       "enrolled_university        0.036053  0.078297               -0.132055   \n",
       "education_level           -0.022341  0.060693                0.067905   \n",
       "major_discipline           0.026763 -0.030375                0.083841   \n",
       "experience                -0.035509 -0.057182                0.333967   \n",
       "company_size               0.007650 -0.055790                0.040640   \n",
       "company_type               0.008637 -0.001269                0.043334   \n",
       "last_new_job              -0.030693 -0.055140                0.188984   \n",
       "training_hours             0.000998 -0.003640                0.001920   \n",
       "target                     0.049475 -0.055564               -0.341665   \n",
       "\n",
       "                          gender  relevent_experience  enrolled_university  \\\n",
       "enrollee_id             0.005157            -0.043359             0.036053   \n",
       "city                   -0.042351            -0.038315             0.078297   \n",
       "city_development_index  0.001854             0.059808            -0.132055   \n",
       "gender                  1.000000            -0.008954            -0.019957   \n",
       "relevent_experience    -0.008954             1.000000            -0.278637   \n",
       "enrolled_university    -0.019957            -0.278637             1.000000   \n",
       "education_level        -0.024215            -0.231448             0.023179   \n",
       "major_discipline        0.058221            -0.062920            -0.056798   \n",
       "experience             -0.053272             0.340185            -0.289641   \n",
       "company_size            0.010767            -0.001532            -0.031621   \n",
       "company_type            0.062933            -0.171840             0.101521   \n",
       "last_new_job           -0.014112             0.246657            -0.182917   \n",
       "training_hours          0.002555             0.011566             0.003505   \n",
       "target                  0.018034            -0.128430             0.106561   \n",
       "\n",
       "                        education_level  major_discipline  experience  \\\n",
       "enrollee_id                   -0.022341          0.026763   -0.035509   \n",
       "city                           0.060693         -0.030375   -0.057182   \n",
       "city_development_index         0.067905          0.083841    0.333967   \n",
       "gender                        -0.024215          0.058221   -0.053272   \n",
       "relevent_experience           -0.231448         -0.062920    0.340185   \n",
       "enrolled_university            0.023179         -0.056798   -0.289641   \n",
       "education_level                1.000000         -0.008545   -0.040598   \n",
       "major_discipline              -0.008545          1.000000   -0.008107   \n",
       "experience                    -0.040598         -0.008107    1.000000   \n",
       "company_size                  -0.012054         -0.023635    0.043701   \n",
       "company_type                   0.088032          0.041414   -0.039497   \n",
       "last_new_job                  -0.094425          0.018791    0.479033   \n",
       "training_hours                -0.002487         -0.001383    0.000908   \n",
       "target                        -0.091101         -0.014854   -0.176724   \n",
       "\n",
       "                        company_size  company_type  last_new_job  \\\n",
       "enrollee_id                 0.007650      0.008637     -0.030693   \n",
       "city                       -0.055790     -0.001269     -0.055140   \n",
       "city_development_index      0.040640      0.043334      0.188984   \n",
       "gender                      0.010767      0.062933     -0.014112   \n",
       "relevent_experience        -0.001532     -0.171840      0.246657   \n",
       "enrolled_university        -0.031621      0.101521     -0.182917   \n",
       "education_level            -0.012054      0.088032     -0.094425   \n",
       "major_discipline           -0.023635      0.041414      0.018791   \n",
       "experience                  0.043701     -0.039497      0.479033   \n",
       "company_size                1.000000     -0.042132      0.044337   \n",
       "company_type               -0.042132      1.000000     -0.024918   \n",
       "last_new_job                0.044337     -0.024918      1.000000   \n",
       "training_hours              0.004497      0.000433     -0.006276   \n",
       "target                     -0.008695      0.025326     -0.082607   \n",
       "\n",
       "                        training_hours    target  \n",
       "enrollee_id                   0.000998  0.049475  \n",
       "city                         -0.003640 -0.055564  \n",
       "city_development_index        0.001920 -0.341665  \n",
       "gender                        0.002555  0.018034  \n",
       "relevent_experience           0.011566 -0.128430  \n",
       "enrolled_university           0.003505  0.106561  \n",
       "education_level              -0.002487 -0.091101  \n",
       "major_discipline             -0.001383 -0.014854  \n",
       "experience                    0.000908 -0.176724  \n",
       "company_size                  0.004497 -0.008695  \n",
       "company_type                  0.000433  0.025326  \n",
       "last_new_job                 -0.006276 -0.082607  \n",
       "training_hours                1.000000 -0.021577  \n",
       "target                       -0.021577  1.000000  "
      ]
     },
     "execution_count": 29,
     "metadata": {},
     "output_type": "execute_result"
    }
   ],
   "source": [
    "df.corr()"
   ]
  },
  {
   "cell_type": "code",
   "execution_count": 308,
   "metadata": {},
   "outputs": [
    {
     "data": {
      "text/plain": [
       "5.0    1986\n",
       "2.0    1814\n",
       "4.0    1449\n",
       "1.0     951\n",
       "3.0     930\n",
       "0.0     840\n",
       "6.0     592\n",
       "7.0     393\n",
       "Name: company_size, dtype: int64"
      ]
     },
     "execution_count": 308,
     "metadata": {},
     "output_type": "execute_result"
    }
   ],
   "source": [
    "df1['company_size'].value_counts()"
   ]
  },
  {
   "cell_type": "code",
   "execution_count": 32,
   "metadata": {},
   "outputs": [
    {
     "data": {
      "text/plain": [
       "enrollee_id                 int64\n",
       "city                        int64\n",
       "city_development_index    float64\n",
       "gender                    float64\n",
       "relevent_experience         int64\n",
       "enrolled_university       float64\n",
       "education_level           float64\n",
       "major_discipline          float64\n",
       "experience                float64\n",
       "company_size              float64\n",
       "company_type              float64\n",
       "last_new_job              float64\n",
       "training_hours              int64\n",
       "target                    float64\n",
       "dtype: object"
      ]
     },
     "execution_count": 32,
     "metadata": {},
     "output_type": "execute_result"
    }
   ],
   "source": [
    "df1.dtypes"
   ]
  },
  {
   "cell_type": "code",
   "execution_count": 33,
   "metadata": {},
   "outputs": [
    {
     "data": {
      "text/plain": [
       "enrollee_id                 int64\n",
       "city                        int64\n",
       "city_development_index    float64\n",
       "gender                    float64\n",
       "relevent_experience         int64\n",
       "enrolled_university       float64\n",
       "education_level           float64\n",
       "major_discipline          float64\n",
       "experience                float64\n",
       "company_size              float64\n",
       "company_type              float64\n",
       "last_new_job              float64\n",
       "training_hours              int64\n",
       "dtype: object"
      ]
     },
     "execution_count": 33,
     "metadata": {},
     "output_type": "execute_result"
    }
   ],
   "source": [
    "test.dtypes"
   ]
  },
  {
   "cell_type": "code",
   "execution_count": 34,
   "metadata": {},
   "outputs": [
    {
     "data": {
      "text/html": [
       "<div>\n",
       "<style scoped>\n",
       "    .dataframe tbody tr th:only-of-type {\n",
       "        vertical-align: middle;\n",
       "    }\n",
       "\n",
       "    .dataframe tbody tr th {\n",
       "        vertical-align: top;\n",
       "    }\n",
       "\n",
       "    .dataframe thead th {\n",
       "        text-align: right;\n",
       "    }\n",
       "</style>\n",
       "<table border=\"1\" class=\"dataframe\">\n",
       "  <thead>\n",
       "    <tr style=\"text-align: right;\">\n",
       "      <th></th>\n",
       "      <th>enrollee_id</th>\n",
       "      <th>city</th>\n",
       "      <th>city_development_index</th>\n",
       "      <th>gender</th>\n",
       "      <th>relevent_experience</th>\n",
       "      <th>enrolled_university</th>\n",
       "      <th>education_level</th>\n",
       "      <th>major_discipline</th>\n",
       "      <th>experience</th>\n",
       "      <th>company_size</th>\n",
       "      <th>company_type</th>\n",
       "      <th>last_new_job</th>\n",
       "      <th>training_hours</th>\n",
       "      <th>target</th>\n",
       "    </tr>\n",
       "  </thead>\n",
       "  <tbody>\n",
       "    <tr>\n",
       "      <th>0</th>\n",
       "      <td>29725</td>\n",
       "      <td>1</td>\n",
       "      <td>0.776</td>\n",
       "      <td>1.0</td>\n",
       "      <td>0</td>\n",
       "      <td>0.0</td>\n",
       "      <td>0.0</td>\n",
       "      <td>0.0</td>\n",
       "      <td>15.0</td>\n",
       "      <td>5.0</td>\n",
       "      <td>0.0</td>\n",
       "      <td>5.0</td>\n",
       "      <td>47</td>\n",
       "      <td>0.0</td>\n",
       "    </tr>\n",
       "    <tr>\n",
       "      <th>1</th>\n",
       "      <td>666</td>\n",
       "      <td>4</td>\n",
       "      <td>0.767</td>\n",
       "      <td>1.0</td>\n",
       "      <td>1</td>\n",
       "      <td>0.0</td>\n",
       "      <td>1.0</td>\n",
       "      <td>0.0</td>\n",
       "      <td>21.0</td>\n",
       "      <td>5.0</td>\n",
       "      <td>1.0</td>\n",
       "      <td>4.0</td>\n",
       "      <td>8</td>\n",
       "      <td>0.0</td>\n",
       "    </tr>\n",
       "    <tr>\n",
       "      <th>2</th>\n",
       "      <td>402</td>\n",
       "      <td>7</td>\n",
       "      <td>0.762</td>\n",
       "      <td>1.0</td>\n",
       "      <td>1</td>\n",
       "      <td>0.0</td>\n",
       "      <td>0.0</td>\n",
       "      <td>0.0</td>\n",
       "      <td>13.0</td>\n",
       "      <td>0.0</td>\n",
       "      <td>0.0</td>\n",
       "      <td>5.0</td>\n",
       "      <td>18</td>\n",
       "      <td>1.0</td>\n",
       "    </tr>\n",
       "    <tr>\n",
       "      <th>3</th>\n",
       "      <td>27107</td>\n",
       "      <td>0</td>\n",
       "      <td>0.920</td>\n",
       "      <td>1.0</td>\n",
       "      <td>1</td>\n",
       "      <td>0.0</td>\n",
       "      <td>0.0</td>\n",
       "      <td>0.0</td>\n",
       "      <td>7.0</td>\n",
       "      <td>5.0</td>\n",
       "      <td>0.0</td>\n",
       "      <td>1.0</td>\n",
       "      <td>46</td>\n",
       "      <td>1.0</td>\n",
       "    </tr>\n",
       "    <tr>\n",
       "      <th>4</th>\n",
       "      <td>23853</td>\n",
       "      <td>0</td>\n",
       "      <td>0.920</td>\n",
       "      <td>1.0</td>\n",
       "      <td>1</td>\n",
       "      <td>0.0</td>\n",
       "      <td>0.0</td>\n",
       "      <td>0.0</td>\n",
       "      <td>5.0</td>\n",
       "      <td>7.0</td>\n",
       "      <td>0.0</td>\n",
       "      <td>1.0</td>\n",
       "      <td>108</td>\n",
       "      <td>0.0</td>\n",
       "    </tr>\n",
       "  </tbody>\n",
       "</table>\n",
       "</div>"
      ],
      "text/plain": [
       "   enrollee_id  city  city_development_index  gender  relevent_experience  \\\n",
       "0        29725     1                   0.776     1.0                    0   \n",
       "1          666     4                   0.767     1.0                    1   \n",
       "2          402     7                   0.762     1.0                    1   \n",
       "3        27107     0                   0.920     1.0                    1   \n",
       "4        23853     0                   0.920     1.0                    1   \n",
       "\n",
       "   enrolled_university  education_level  major_discipline  experience  \\\n",
       "0                  0.0              0.0               0.0        15.0   \n",
       "1                  0.0              1.0               0.0        21.0   \n",
       "2                  0.0              0.0               0.0        13.0   \n",
       "3                  0.0              0.0               0.0         7.0   \n",
       "4                  0.0              0.0               0.0         5.0   \n",
       "\n",
       "   company_size  company_type  last_new_job  training_hours  target  \n",
       "0           5.0           0.0           5.0              47     0.0  \n",
       "1           5.0           1.0           4.0               8     0.0  \n",
       "2           0.0           0.0           5.0              18     1.0  \n",
       "3           5.0           0.0           1.0              46     1.0  \n",
       "4           7.0           0.0           1.0             108     0.0  "
      ]
     },
     "execution_count": 34,
     "metadata": {},
     "output_type": "execute_result"
    }
   ],
   "source": [
    "df1.head()"
   ]
  },
  {
   "cell_type": "code",
   "execution_count": 36,
   "metadata": {
    "scrolled": true
   },
   "outputs": [
    {
     "data": {
      "text/plain": [
       "<matplotlib.axes._subplots.AxesSubplot at 0x1dee44d2d30>"
      ]
     },
     "execution_count": 36,
     "metadata": {},
     "output_type": "execute_result"
    },
    {
     "data": {
      "image/png": "[encoded data removed]",
      "text/plain": [
       "<Figure size 432x288 with 1 Axes>"
      ]
     },
     "metadata": {
      "needs_background": "light"
     },
     "output_type": "display_data"
    }
   ],
   "source": [
    "sns.boxplot(y=df1['training_hours'], x=df1['target'])"
   ]
  },
  {
   "cell_type": "code",
   "execution_count": 37,
   "metadata": {
    "scrolled": true
   },
   "outputs": [
    {
     "data": {
      "text/plain": [
       "<matplotlib.axes._subplots.AxesSubplot at 0x1dee44e7a20>"
      ]
     },
     "execution_count": 37,
     "metadata": {},
     "output_type": "execute_result"
    },
    {
     "data": {
      "image/png": "[encoded data removed]",
      "text/plain": [
       "<Figure size 432x288 with 1 Axes>"
      ]
     },
     "metadata": {
      "needs_background": "light"
     },
     "output_type": "display_data"
    }
   ],
   "source": [
    "sns.boxplot(y=df1['last_new_job'], x=df1['target'])"
   ]
  },
  {
   "cell_type": "code",
   "execution_count": 38,
   "metadata": {
    "scrolled": true
   },
   "outputs": [
    {
     "data": {
      "text/plain": [
       "<matplotlib.axes._subplots.AxesSubplot at 0x1dee45570f0>"
      ]
     },
     "execution_count": 38,
     "metadata": {},
     "output_type": "execute_result"
    },
    {
     "data": {
      "image/png": "[encoded data removed]",
      "text/plain": [
       "<Figure size 432x288 with 1 Axes>"
      ]
     },
     "metadata": {
      "needs_background": "light"
     },
     "output_type": "display_data"
    }
   ],
   "source": [
    "sns.boxplot(y=df1['city_development_index'], x=df1['target'])"
   ]
  },
  {
   "cell_type": "code",
   "execution_count": 39,
   "metadata": {},
   "outputs": [
    {
     "data": {
      "text/plain": [
       "<matplotlib.axes._subplots.AxesSubplot at 0x1dee45b3be0>"
      ]
     },
     "execution_count": 39,
     "metadata": {},
     "output_type": "execute_result"
    },
    {
     "data": {
      "image/png": "[encoded data removed]",
      "text/plain": [
       "<Figure size 720x360 with 1 Axes>"
      ]
     },
     "metadata": {
      "needs_background": "light"
     },
     "output_type": "display_data"
    }
   ],
   "source": [
    "df1.groupby([\"company_size\", \"target\"]).size().unstack().plot(kind='bar', stacked=True, figsize=(10,5))"
   ]
  },
  {
   "cell_type": "code",
   "execution_count": 40,
   "metadata": {},
   "outputs": [
    {
     "data": {
      "text/plain": [
       "<matplotlib.axes._subplots.AxesSubplot at 0x1dee480db00>"
      ]
     },
     "execution_count": 40,
     "metadata": {},
     "output_type": "execute_result"
    },
    {
     "data": {
      "image/png": "[encoded data removed]",
      "text/plain": [
       "<Figure size 720x360 with 1 Axes>"
      ]
     },
     "metadata": {
      "needs_background": "light"
     },
     "output_type": "display_data"
    }
   ],
   "source": [
    "df1.groupby([\"company_type\", \"target\"]).size().unstack().plot(kind='bar', stacked=True, figsize=(10,5))"
   ]
  },
  {
   "cell_type": "code",
   "execution_count": 41,
   "metadata": {},
   "outputs": [
    {
     "data": {
      "text/plain": [
       "<matplotlib.axes._subplots.AxesSubplot at 0x1dee48872b0>"
      ]
     },
     "execution_count": 41,
     "metadata": {},
     "output_type": "execute_result"
    },
    {
     "data": {
      "image/png": "[encoded data removed]",
      "text/plain": [
       "<Figure size 720x360 with 1 Axes>"
      ]
     },
     "metadata": {
      "needs_background": "light"
     },
     "output_type": "display_data"
    }
   ],
   "source": [
    "df1.groupby([\"education_level\", \"target\"]).size().unstack().plot(kind='bar', stacked=True, figsize=(10,5))"
   ]
  },
  {
   "cell_type": "code",
   "execution_count": 42,
   "metadata": {
    "scrolled": true
   },
   "outputs": [
    {
     "data": {
      "text/plain": [
       "<matplotlib.axes._subplots.AxesSubplot at 0x1dee4c90240>"
      ]
     },
     "execution_count": 42,
     "metadata": {},
     "output_type": "execute_result"
    },
    {
     "data": {
      "image/png": "[encoded data removed]",
      "text/plain": [
       "<Figure size 720x360 with 1 Axes>"
      ]
     },
     "metadata": {
      "needs_background": "light"
     },
     "output_type": "display_data"
    }
   ],
   "source": [
    "df1.groupby([\"enrolled_university\", \"target\"]).size().unstack().plot(kind='bar', stacked=True, figsize=(10,5))"
   ]
  },
  {
   "cell_type": "code",
   "execution_count": 43,
   "metadata": {},
   "outputs": [
    {
     "data": {
      "text/plain": [
       "<matplotlib.axes._subplots.AxesSubplot at 0x1dee4d05b70>"
      ]
     },
     "execution_count": 43,
     "metadata": {},
     "output_type": "execute_result"
    },
    {
     "data": {
      "image/png": "[encoded data removed]",
      "text/plain": [
       "<Figure size 720x360 with 1 Axes>"
      ]
     },
     "metadata": {
      "needs_background": "light"
     },
     "output_type": "display_data"
    }
   ],
   "source": [
    "df1.groupby([\"major_discipline\", \"target\"]).size().unstack().plot(kind='bar', stacked=True, figsize=(10,5))"
   ]
  },
  {
   "cell_type": "code",
   "execution_count": 44,
   "metadata": {},
   "outputs": [
    {
     "data": {
      "text/plain": [
       "<matplotlib.axes._subplots.AxesSubplot at 0x1dee4d7ea58>"
      ]
     },
     "execution_count": 44,
     "metadata": {},
     "output_type": "execute_result"
    },
    {
     "data": {
      "image/png": "[encoded data removed]",
      "text/plain": [
       "<Figure size 720x360 with 1 Axes>"
      ]
     },
     "metadata": {
      "needs_background": "light"
     },
     "output_type": "display_data"
    }
   ],
   "source": [
    "df1.groupby([\"experience\", \"target\"]).size().unstack().plot(kind='bar', stacked=True, figsize=(10,5))"
   ]
  },
  {
   "cell_type": "code",
   "execution_count": 45,
   "metadata": {
    "scrolled": true
   },
   "outputs": [
    {
     "data": {
      "text/plain": [
       "<matplotlib.axes._subplots.AxesSubplot at 0x1dee5e2f0b8>"
      ]
     },
     "execution_count": 45,
     "metadata": {},
     "output_type": "execute_result"
    },
    {
     "data": {
      "image/png": "[encoded data removed]",
      "text/plain": [
       "<Figure size 720x360 with 1 Axes>"
      ]
     },
     "metadata": {
      "needs_background": "light"
     },
     "output_type": "display_data"
    }
   ],
   "source": [
    "df1.groupby([\"relevent_experience\", \"target\"]).size().unstack().plot(kind='bar', stacked=True, figsize=(10,5))"
   ]
  },
  {
   "cell_type": "code",
   "execution_count": 46,
   "metadata": {},
   "outputs": [],
   "source": [
    "cross=pd.crosstab(df1['company_type'], df1['target'],normalize=True)"
   ]
  },
  {
   "cell_type": "code",
   "execution_count": 47,
   "metadata": {
    "scrolled": true
   },
   "outputs": [
    {
     "data": {
      "text/plain": [
       "<matplotlib.axes._subplots.AxesSubplot at 0x1dee4d5fc50>"
      ]
     },
     "execution_count": 47,
     "metadata": {},
     "output_type": "execute_result"
    },
    {
     "data": {
      "image/png": "[encoded data removed]",
      "text/plain": [
       "<Figure size 720x360 with 1 Axes>"
      ]
     },
     "metadata": {
      "needs_background": "light"
     },
     "output_type": "display_data"
    }
   ],
   "source": [
    "cross.plot(kind='bar', stacked=True, figsize=(10,5))"
   ]
  },
  {
   "cell_type": "code",
   "execution_count": 48,
   "metadata": {},
   "outputs": [],
   "source": [
    "x = df1.drop(['target','enrollee_id'], axis=1, inplace=False) \n"
   ]
  },
  {
   "cell_type": "code",
   "execution_count": 49,
   "metadata": {},
   "outputs": [],
   "source": [
    "x_cv = test.drop(['enrollee_id'], axis=1, inplace=False) \n"
   ]
  },
  {
   "cell_type": "code",
   "execution_count": 50,
   "metadata": {},
   "outputs": [],
   "source": [
    "y=df1['target']"
   ]
  },
  {
   "cell_type": "code",
   "execution_count": 51,
   "metadata": {},
   "outputs": [
    {
     "data": {
      "text/plain": [
       "((8955, 12), (8955,), (1019, 12))"
      ]
     },
     "execution_count": 51,
     "metadata": {},
     "output_type": "execute_result"
    }
   ],
   "source": [
    "x.shape,y.shape, x_cv.shape"
   ]
  },
  {
   "cell_type": "code",
   "execution_count": 52,
   "metadata": {
    "scrolled": true
   },
   "outputs": [],
   "source": [
    "x=pd.get_dummies(x, drop_first=True)"
   ]
  },
  {
   "cell_type": "code",
   "execution_count": 53,
   "metadata": {
    "scrolled": true
   },
   "outputs": [],
   "source": [
    "x_cv=pd.get_dummies(x_cv, drop_first=True)"
   ]
  },
  {
   "cell_type": "code",
   "execution_count": 54,
   "metadata": {},
   "outputs": [
    {
     "data": {
      "text/plain": [
       "((8955, 12), (8955,), (1019, 12))"
      ]
     },
     "execution_count": 54,
     "metadata": {},
     "output_type": "execute_result"
    }
   ],
   "source": [
    "x.shape,y.shape, x_cv.shape"
   ]
  },
  {
   "cell_type": "code",
   "execution_count": 55,
   "metadata": {},
   "outputs": [],
   "source": [
    "from sklearn.model_selection import train_test_split\n",
    "from sklearn import tree , metrics, preprocessing\n",
    "from sklearn.ensemble import RandomForestClassifier\n",
    "from sklearn.metrics import confusion_matrix, classification_report"
   ]
  },
  {
   "cell_type": "code",
   "execution_count": 56,
   "metadata": {
    "scrolled": true
   },
   "outputs": [],
   "source": [
    "x_train,x_test,y_train,y_test=train_test_split(x,y, test_size=0.20,random_state=100)"
   ]
  },
  {
   "cell_type": "code",
   "execution_count": 57,
   "metadata": {},
   "outputs": [],
   "source": [
    "#x['city'] = x['city'].astype('category')\n",
    "#x['relevent_experience'] = x['relevent_experience'].astype('category')\n",
    "#x['enrolled_university'] = x['enrolled_university'].astype('category')\n",
    "#x['education_level'] = x['education_level'].astype('category')\n"
   ]
  },
  {
   "cell_type": "code",
   "execution_count": 58,
   "metadata": {},
   "outputs": [
    {
     "data": {
      "text/plain": [
       "RandomForestClassifier(bootstrap=True, class_weight=None, criterion='gini',\n",
       "            max_depth=None, max_features=4, max_leaf_nodes=None,\n",
       "            min_impurity_decrease=0.0, min_impurity_split=None,\n",
       "            min_samples_leaf=1, min_samples_split=2,\n",
       "            min_weight_fraction_leaf=0.0, n_estimators=1000, n_jobs=None,\n",
       "            oob_score=False, random_state=42, verbose=0, warm_start=False)"
      ]
     },
     "execution_count": 58,
     "metadata": {},
     "output_type": "execute_result"
    }
   ],
   "source": [
    "# Instantiate model with 1000 decision trees\n",
    "clf = RandomForestClassifier(n_estimators = 1000, random_state = 42,max_features=4)\n",
    "# Train the model on training data\n",
    "clf.fit(x_train, y_train)"
   ]
  },
  {
   "cell_type": "code",
   "execution_count": 59,
   "metadata": {},
   "outputs": [],
   "source": [
    "feature_importances = pd.DataFrame(clf.feature_importances_,\n",
    "                                   index = x.columns,\n",
    "                                    columns=['importance']).sort_values('importance', \n",
    "                                                                        ascending=False)"
   ]
  },
  {
   "cell_type": "code",
   "execution_count": 60,
   "metadata": {},
   "outputs": [
    {
     "data": {
      "text/html": [
       "<div>\n",
       "<style scoped>\n",
       "    .dataframe tbody tr th:only-of-type {\n",
       "        vertical-align: middle;\n",
       "    }\n",
       "\n",
       "    .dataframe tbody tr th {\n",
       "        vertical-align: top;\n",
       "    }\n",
       "\n",
       "    .dataframe thead th {\n",
       "        text-align: right;\n",
       "    }\n",
       "</style>\n",
       "<table border=\"1\" class=\"dataframe\">\n",
       "  <thead>\n",
       "    <tr style=\"text-align: right;\">\n",
       "      <th></th>\n",
       "      <th>importance</th>\n",
       "    </tr>\n",
       "  </thead>\n",
       "  <tbody>\n",
       "    <tr>\n",
       "      <th>city_development_index</th>\n",
       "      <td>0.234860</td>\n",
       "    </tr>\n",
       "    <tr>\n",
       "      <th>training_hours</th>\n",
       "      <td>0.227436</td>\n",
       "    </tr>\n",
       "    <tr>\n",
       "      <th>experience</th>\n",
       "      <td>0.132587</td>\n",
       "    </tr>\n",
       "    <tr>\n",
       "      <th>city</th>\n",
       "      <td>0.098806</td>\n",
       "    </tr>\n",
       "    <tr>\n",
       "      <th>company_size</th>\n",
       "      <td>0.094391</td>\n",
       "    </tr>\n",
       "    <tr>\n",
       "      <th>last_new_job</th>\n",
       "      <td>0.065449</td>\n",
       "    </tr>\n",
       "    <tr>\n",
       "      <th>company_type</th>\n",
       "      <td>0.039103</td>\n",
       "    </tr>\n",
       "    <tr>\n",
       "      <th>education_level</th>\n",
       "      <td>0.030333</td>\n",
       "    </tr>\n",
       "    <tr>\n",
       "      <th>enrolled_university</th>\n",
       "      <td>0.023886</td>\n",
       "    </tr>\n",
       "    <tr>\n",
       "      <th>gender</th>\n",
       "      <td>0.019739</td>\n",
       "    </tr>\n",
       "    <tr>\n",
       "      <th>relevent_experience</th>\n",
       "      <td>0.017302</td>\n",
       "    </tr>\n",
       "    <tr>\n",
       "      <th>major_discipline</th>\n",
       "      <td>0.016108</td>\n",
       "    </tr>\n",
       "  </tbody>\n",
       "</table>\n",
       "</div>"
      ],
      "text/plain": [
       "                        importance\n",
       "city_development_index    0.234860\n",
       "training_hours            0.227436\n",
       "experience                0.132587\n",
       "city                      0.098806\n",
       "company_size              0.094391\n",
       "last_new_job              0.065449\n",
       "company_type              0.039103\n",
       "education_level           0.030333\n",
       "enrolled_university       0.023886\n",
       "gender                    0.019739\n",
       "relevent_experience       0.017302\n",
       "major_discipline          0.016108"
      ]
     },
     "execution_count": 60,
     "metadata": {},
     "output_type": "execute_result"
    }
   ],
   "source": [
    "feature_importances"
   ]
  },
  {
   "cell_type": "code",
   "execution_count": 61,
   "metadata": {},
   "outputs": [
    {
     "data": {
      "text/plain": [
       "<matplotlib.axes._subplots.AxesSubplot at 0x1dee5f6bd68>"
      ]
     },
     "execution_count": 61,
     "metadata": {},
     "output_type": "execute_result"
    },
    {
     "data": {
      "image/png": "[encoded data removed]",
      "text/plain": [
       "<Figure size 720x720 with 1 Axes>"
      ]
     },
     "metadata": {
      "needs_background": "light"
     },
     "output_type": "display_data"
    }
   ],
   "source": [
    "feat_importances = pd.Series(clf.feature_importances_, index=x_train.columns)\n",
    "feat_importances = feat_importances.nlargest(5)\n",
    "feat_importances.plot(kind='barh' , figsize=(10,10)) "
   ]
  },
  {
   "cell_type": "code",
   "execution_count": 79,
   "metadata": {},
   "outputs": [
    {
     "name": "stdout",
     "output_type": "stream",
     "text": [
      "[500, 616, 733, 850, 966, 1083, 1200]\n"
     ]
    }
   ],
   "source": [
    "# number of trees\n",
    "n_estimators=[int(x) for x in np.linspace(start=500, stop=1200, num=7)]\n",
    "print(n_estimators)"
   ]
  },
  {
   "cell_type": "code",
   "execution_count": 80,
   "metadata": {},
   "outputs": [],
   "source": [
    "# number of feature for every split\n",
    "max_features=['auto', 'sqrt']\n",
    "# maximum nuber of levels in tree\n",
    "max_depth =[10, 20, 30, 40, 50, 60, 70, 80, 90, 100, 110, None]\n",
    "#minumum number of samples required to split a node\n",
    "min_samples_split=[2,5,10,15,100]\n",
    "# minimum number of sample required at each leaf node\n",
    "min_samples_leaf=[1,2,5,10]\n"
   ]
  },
  {
   "cell_type": "code",
   "execution_count": 82,
   "metadata": {},
   "outputs": [
    {
     "name": "stdout",
     "output_type": "stream",
     "text": [
      "{'bootstrap': [True, False], 'n_estimators': [500, 616, 733, 850, 966, 1083, 1200], 'max_features': ['auto', 'sqrt'], 'max_depth': [10, 20, 30, 40, 50, 60, 70, 80, 90, 100, 110, None], 'min_samples_split': [2, 5, 10, 15, 100], 'min_samples_leaf': [1, 2, 5, 10]}\n"
     ]
    }
   ],
   "source": [
    "# creating random grid\n",
    "random_grid={'bootstrap': [True, False],\n",
    "             'n_estimators':n_estimators,\n",
    "            'max_features':max_features,\n",
    "            'max_depth':max_depth,\n",
    "            'min_samples_split':min_samples_split,\n",
    "            'min_samples_leaf':min_samples_leaf}\n",
    "\n",
    "print(random_grid)"
   ]
  },
  {
   "cell_type": "code",
   "execution_count": 83,
   "metadata": {},
   "outputs": [],
   "source": [
    "rf=RandomForestClassifier()\n",
    "rf_random=RandomizedSearchCV(estimator=rf, param_distributions=random_grid, scoring='neg_mean_squared_error', n_iter=10,  cv=5, verbose=2, random_state=42,n_jobs=1)"
   ]
  },
  {
   "cell_type": "code",
   "execution_count": 84,
   "metadata": {},
   "outputs": [
    {
     "name": "stdout",
     "output_type": "stream",
     "text": [
      "Fitting 5 folds for each of 10 candidates, totalling 50 fits\n",
      "[CV] n_estimators=1200, min_samples_split=10, min_samples_leaf=1, max_features=auto, max_depth=40, bootstrap=True \n"
     ]
    },
    {
     "name": "stderr",
     "output_type": "stream",
     "text": [
      "[Parallel(n_jobs=1)]: Using backend SequentialBackend with 1 concurrent workers.\n"
     ]
    },
    {
     "name": "stdout",
     "output_type": "stream",
     "text": [
      "[CV]  n_estimators=1200, min_samples_split=10, min_samples_leaf=1, max_features=auto, max_depth=40, bootstrap=True, total=   4.4s\n",
      "[CV] n_estimators=1200, min_samples_split=10, min_samples_leaf=1, max_features=auto, max_depth=40, bootstrap=True \n"
     ]
    },
    {
     "name": "stderr",
     "output_type": "stream",
     "text": [
      "[Parallel(n_jobs=1)]: Done   1 out of   1 | elapsed:    5.3s remaining:    0.0s\n"
     ]
    },
    {
     "name": "stdout",
     "output_type": "stream",
     "text": [
      "[CV]  n_estimators=1200, min_samples_split=10, min_samples_leaf=1, max_features=auto, max_depth=40, bootstrap=True, total=   4.5s\n",
      "[CV] n_estimators=1200, min_samples_split=10, min_samples_leaf=1, max_features=auto, max_depth=40, bootstrap=True \n",
      "[CV]  n_estimators=1200, min_samples_split=10, min_samples_leaf=1, max_features=auto, max_depth=40, bootstrap=True, total=   4.3s\n",
      "[CV] n_estimators=1200, min_samples_split=10, min_samples_leaf=1, max_features=auto, max_depth=40, bootstrap=True \n",
      "[CV]  n_estimators=1200, min_samples_split=10, min_samples_leaf=1, max_features=auto, max_depth=40, bootstrap=True, total=   4.8s\n",
      "[CV] n_estimators=1200, min_samples_split=10, min_samples_leaf=1, max_features=auto, max_depth=40, bootstrap=True \n",
      "[CV]  n_estimators=1200, min_samples_split=10, min_samples_leaf=1, max_features=auto, max_depth=40, bootstrap=True, total=   4.4s\n",
      "[CV] n_estimators=500, min_samples_split=2, min_samples_leaf=5, max_features=auto, max_depth=80, bootstrap=False \n",
      "[CV]  n_estimators=500, min_samples_split=2, min_samples_leaf=5, max_features=auto, max_depth=80, bootstrap=False, total=   2.4s\n",
      "[CV] n_estimators=500, min_samples_split=2, min_samples_leaf=5, max_features=auto, max_depth=80, bootstrap=False \n",
      "[CV]  n_estimators=500, min_samples_split=2, min_samples_leaf=5, max_features=auto, max_depth=80, bootstrap=False, total=   2.3s\n",
      "[CV] n_estimators=500, min_samples_split=2, min_samples_leaf=5, max_features=auto, max_depth=80, bootstrap=False \n",
      "[CV]  n_estimators=500, min_samples_split=2, min_samples_leaf=5, max_features=auto, max_depth=80, bootstrap=False, total=   2.3s\n",
      "[CV] n_estimators=500, min_samples_split=2, min_samples_leaf=5, max_features=auto, max_depth=80, bootstrap=False \n",
      "[CV]  n_estimators=500, min_samples_split=2, min_samples_leaf=5, max_features=auto, max_depth=80, bootstrap=False, total=   2.3s\n",
      "[CV] n_estimators=500, min_samples_split=2, min_samples_leaf=5, max_features=auto, max_depth=80, bootstrap=False \n",
      "[CV]  n_estimators=500, min_samples_split=2, min_samples_leaf=5, max_features=auto, max_depth=80, bootstrap=False, total=   2.3s\n",
      "[CV] n_estimators=966, min_samples_split=5, min_samples_leaf=2, max_features=sqrt, max_depth=70, bootstrap=False \n",
      "[CV]  n_estimators=966, min_samples_split=5, min_samples_leaf=2, max_features=sqrt, max_depth=70, bootstrap=False, total=   5.3s\n",
      "[CV] n_estimators=966, min_samples_split=5, min_samples_leaf=2, max_features=sqrt, max_depth=70, bootstrap=False \n",
      "[CV]  n_estimators=966, min_samples_split=5, min_samples_leaf=2, max_features=sqrt, max_depth=70, bootstrap=False, total=   5.1s\n",
      "[CV] n_estimators=966, min_samples_split=5, min_samples_leaf=2, max_features=sqrt, max_depth=70, bootstrap=False \n",
      "[CV]  n_estimators=966, min_samples_split=5, min_samples_leaf=2, max_features=sqrt, max_depth=70, bootstrap=False, total=   5.1s\n",
      "[CV] n_estimators=966, min_samples_split=5, min_samples_leaf=2, max_features=sqrt, max_depth=70, bootstrap=False \n",
      "[CV]  n_estimators=966, min_samples_split=5, min_samples_leaf=2, max_features=sqrt, max_depth=70, bootstrap=False, total=   5.1s\n",
      "[CV] n_estimators=966, min_samples_split=5, min_samples_leaf=2, max_features=sqrt, max_depth=70, bootstrap=False \n",
      "[CV]  n_estimators=966, min_samples_split=5, min_samples_leaf=2, max_features=sqrt, max_depth=70, bootstrap=False, total=   5.1s\n",
      "[CV] n_estimators=966, min_samples_split=5, min_samples_leaf=1, max_features=sqrt, max_depth=70, bootstrap=False \n",
      "[CV]  n_estimators=966, min_samples_split=5, min_samples_leaf=1, max_features=sqrt, max_depth=70, bootstrap=False, total=   5.4s\n",
      "[CV] n_estimators=966, min_samples_split=5, min_samples_leaf=1, max_features=sqrt, max_depth=70, bootstrap=False \n",
      "[CV]  n_estimators=966, min_samples_split=5, min_samples_leaf=1, max_features=sqrt, max_depth=70, bootstrap=False, total=   5.3s\n",
      "[CV] n_estimators=966, min_samples_split=5, min_samples_leaf=1, max_features=sqrt, max_depth=70, bootstrap=False \n",
      "[CV]  n_estimators=966, min_samples_split=5, min_samples_leaf=1, max_features=sqrt, max_depth=70, bootstrap=False, total=   5.4s\n",
      "[CV] n_estimators=966, min_samples_split=5, min_samples_leaf=1, max_features=sqrt, max_depth=70, bootstrap=False \n",
      "[CV]  n_estimators=966, min_samples_split=5, min_samples_leaf=1, max_features=sqrt, max_depth=70, bootstrap=False, total=   5.4s\n",
      "[CV] n_estimators=966, min_samples_split=5, min_samples_leaf=1, max_features=sqrt, max_depth=70, bootstrap=False \n",
      "[CV]  n_estimators=966, min_samples_split=5, min_samples_leaf=1, max_features=sqrt, max_depth=70, bootstrap=False, total=   5.4s\n",
      "[CV] n_estimators=1200, min_samples_split=15, min_samples_leaf=10, max_features=auto, max_depth=20, bootstrap=False \n",
      "[CV]  n_estimators=1200, min_samples_split=15, min_samples_leaf=10, max_features=auto, max_depth=20, bootstrap=False, total=   5.2s\n",
      "[CV] n_estimators=1200, min_samples_split=15, min_samples_leaf=10, max_features=auto, max_depth=20, bootstrap=False \n",
      "[CV]  n_estimators=1200, min_samples_split=15, min_samples_leaf=10, max_features=auto, max_depth=20, bootstrap=False, total=   5.6s\n",
      "[CV] n_estimators=1200, min_samples_split=15, min_samples_leaf=10, max_features=auto, max_depth=20, bootstrap=False \n",
      "[CV]  n_estimators=1200, min_samples_split=15, min_samples_leaf=10, max_features=auto, max_depth=20, bootstrap=False, total=   5.4s\n",
      "[CV] n_estimators=1200, min_samples_split=15, min_samples_leaf=10, max_features=auto, max_depth=20, bootstrap=False \n",
      "[CV]  n_estimators=1200, min_samples_split=15, min_samples_leaf=10, max_features=auto, max_depth=20, bootstrap=False, total=   5.3s\n",
      "[CV] n_estimators=1200, min_samples_split=15, min_samples_leaf=10, max_features=auto, max_depth=20, bootstrap=False \n",
      "[CV]  n_estimators=1200, min_samples_split=15, min_samples_leaf=10, max_features=auto, max_depth=20, bootstrap=False, total=   5.2s\n",
      "[CV] n_estimators=1083, min_samples_split=5, min_samples_leaf=1, max_features=auto, max_depth=None, bootstrap=True \n",
      "[CV]  n_estimators=1083, min_samples_split=5, min_samples_leaf=1, max_features=auto, max_depth=None, bootstrap=True, total=   4.3s\n",
      "[CV] n_estimators=1083, min_samples_split=5, min_samples_leaf=1, max_features=auto, max_depth=None, bootstrap=True \n",
      "[CV]  n_estimators=1083, min_samples_split=5, min_samples_leaf=1, max_features=auto, max_depth=None, bootstrap=True, total=   4.3s\n",
      "[CV] n_estimators=1083, min_samples_split=5, min_samples_leaf=1, max_features=auto, max_depth=None, bootstrap=True \n",
      "[CV]  n_estimators=1083, min_samples_split=5, min_samples_leaf=1, max_features=auto, max_depth=None, bootstrap=True, total=   4.3s\n",
      "[CV] n_estimators=1083, min_samples_split=5, min_samples_leaf=1, max_features=auto, max_depth=None, bootstrap=True \n",
      "[CV]  n_estimators=1083, min_samples_split=5, min_samples_leaf=1, max_features=auto, max_depth=None, bootstrap=True, total=   4.3s\n",
      "[CV] n_estimators=1083, min_samples_split=5, min_samples_leaf=1, max_features=auto, max_depth=None, bootstrap=True \n",
      "[CV]  n_estimators=1083, min_samples_split=5, min_samples_leaf=1, max_features=auto, max_depth=None, bootstrap=True, total=   5.0s\n",
      "[CV] n_estimators=616, min_samples_split=100, min_samples_leaf=10, max_features=auto, max_depth=90, bootstrap=False \n",
      "[CV]  n_estimators=616, min_samples_split=100, min_samples_leaf=10, max_features=auto, max_depth=90, bootstrap=False, total=   2.4s\n",
      "[CV] n_estimators=616, min_samples_split=100, min_samples_leaf=10, max_features=auto, max_depth=90, bootstrap=False \n",
      "[CV]  n_estimators=616, min_samples_split=100, min_samples_leaf=10, max_features=auto, max_depth=90, bootstrap=False, total=   2.3s\n",
      "[CV] n_estimators=616, min_samples_split=100, min_samples_leaf=10, max_features=auto, max_depth=90, bootstrap=False \n",
      "[CV]  n_estimators=616, min_samples_split=100, min_samples_leaf=10, max_features=auto, max_depth=90, bootstrap=False, total=   2.3s\n",
      "[CV] n_estimators=616, min_samples_split=100, min_samples_leaf=10, max_features=auto, max_depth=90, bootstrap=False \n",
      "[CV]  n_estimators=616, min_samples_split=100, min_samples_leaf=10, max_features=auto, max_depth=90, bootstrap=False, total=   2.3s\n",
      "[CV] n_estimators=616, min_samples_split=100, min_samples_leaf=10, max_features=auto, max_depth=90, bootstrap=False \n",
      "[CV]  n_estimators=616, min_samples_split=100, min_samples_leaf=10, max_features=auto, max_depth=90, bootstrap=False, total=   2.2s\n",
      "[CV] n_estimators=500, min_samples_split=2, min_samples_leaf=10, max_features=auto, max_depth=110, bootstrap=False \n"
     ]
    },
    {
     "name": "stdout",
     "output_type": "stream",
     "text": [
      "[CV]  n_estimators=500, min_samples_split=2, min_samples_leaf=10, max_features=auto, max_depth=110, bootstrap=False, total=   2.1s\n",
      "[CV] n_estimators=500, min_samples_split=2, min_samples_leaf=10, max_features=auto, max_depth=110, bootstrap=False \n",
      "[CV]  n_estimators=500, min_samples_split=2, min_samples_leaf=10, max_features=auto, max_depth=110, bootstrap=False, total=   2.0s\n",
      "[CV] n_estimators=500, min_samples_split=2, min_samples_leaf=10, max_features=auto, max_depth=110, bootstrap=False \n",
      "[CV]  n_estimators=500, min_samples_split=2, min_samples_leaf=10, max_features=auto, max_depth=110, bootstrap=False, total=   2.0s\n",
      "[CV] n_estimators=500, min_samples_split=2, min_samples_leaf=10, max_features=auto, max_depth=110, bootstrap=False \n",
      "[CV]  n_estimators=500, min_samples_split=2, min_samples_leaf=10, max_features=auto, max_depth=110, bootstrap=False, total=   2.1s\n",
      "[CV] n_estimators=500, min_samples_split=2, min_samples_leaf=10, max_features=auto, max_depth=110, bootstrap=False \n",
      "[CV]  n_estimators=500, min_samples_split=2, min_samples_leaf=10, max_features=auto, max_depth=110, bootstrap=False, total=   2.1s\n",
      "[CV] n_estimators=966, min_samples_split=5, min_samples_leaf=2, max_features=sqrt, max_depth=20, bootstrap=True \n",
      "[CV]  n_estimators=966, min_samples_split=5, min_samples_leaf=2, max_features=sqrt, max_depth=20, bootstrap=True, total=   3.4s\n",
      "[CV] n_estimators=966, min_samples_split=5, min_samples_leaf=2, max_features=sqrt, max_depth=20, bootstrap=True \n",
      "[CV]  n_estimators=966, min_samples_split=5, min_samples_leaf=2, max_features=sqrt, max_depth=20, bootstrap=True, total=   3.4s\n",
      "[CV] n_estimators=966, min_samples_split=5, min_samples_leaf=2, max_features=sqrt, max_depth=20, bootstrap=True \n",
      "[CV]  n_estimators=966, min_samples_split=5, min_samples_leaf=2, max_features=sqrt, max_depth=20, bootstrap=True, total=   3.5s\n",
      "[CV] n_estimators=966, min_samples_split=5, min_samples_leaf=2, max_features=sqrt, max_depth=20, bootstrap=True \n",
      "[CV]  n_estimators=966, min_samples_split=5, min_samples_leaf=2, max_features=sqrt, max_depth=20, bootstrap=True, total=   3.4s\n",
      "[CV] n_estimators=966, min_samples_split=5, min_samples_leaf=2, max_features=sqrt, max_depth=20, bootstrap=True \n",
      "[CV]  n_estimators=966, min_samples_split=5, min_samples_leaf=2, max_features=sqrt, max_depth=20, bootstrap=True, total=   3.4s\n",
      "[CV] n_estimators=500, min_samples_split=10, min_samples_leaf=1, max_features=auto, max_depth=80, bootstrap=False \n",
      "[CV]  n_estimators=500, min_samples_split=10, min_samples_leaf=1, max_features=auto, max_depth=80, bootstrap=False, total=   2.5s\n",
      "[CV] n_estimators=500, min_samples_split=10, min_samples_leaf=1, max_features=auto, max_depth=80, bootstrap=False \n",
      "[CV]  n_estimators=500, min_samples_split=10, min_samples_leaf=1, max_features=auto, max_depth=80, bootstrap=False, total=   2.5s\n",
      "[CV] n_estimators=500, min_samples_split=10, min_samples_leaf=1, max_features=auto, max_depth=80, bootstrap=False \n",
      "[CV]  n_estimators=500, min_samples_split=10, min_samples_leaf=1, max_features=auto, max_depth=80, bootstrap=False, total=   2.5s\n",
      "[CV] n_estimators=500, min_samples_split=10, min_samples_leaf=1, max_features=auto, max_depth=80, bootstrap=False \n",
      "[CV]  n_estimators=500, min_samples_split=10, min_samples_leaf=1, max_features=auto, max_depth=80, bootstrap=False, total=   2.5s\n",
      "[CV] n_estimators=500, min_samples_split=10, min_samples_leaf=1, max_features=auto, max_depth=80, bootstrap=False \n",
      "[CV]  n_estimators=500, min_samples_split=10, min_samples_leaf=1, max_features=auto, max_depth=80, bootstrap=False, total=   2.5s\n"
     ]
    },
    {
     "name": "stderr",
     "output_type": "stream",
     "text": [
      "[Parallel(n_jobs=1)]: Done  50 out of  50 | elapsed:  3.8min finished\n"
     ]
    },
    {
     "data": {
      "text/plain": [
       "RandomizedSearchCV(cv=5, error_score='raise-deprecating',\n",
       "          estimator=RandomForestClassifier(bootstrap=True, class_weight=None, criterion='gini',\n",
       "            max_depth=None, max_features='auto', max_leaf_nodes=None,\n",
       "            min_impurity_decrease=0.0, min_impurity_split=None,\n",
       "            min_samples_leaf=1, min_samples_split=2,\n",
       "            min_weight_fraction_leaf=0.0, n_estimators='warn', n_jobs=None,\n",
       "            oob_score=False, random_state=None, verbose=0,\n",
       "            warm_start=False),\n",
       "          fit_params=None, iid='warn', n_iter=10, n_jobs=1,\n",
       "          param_distributions={'bootstrap': [True, False], 'n_estimators': [500, 616, 733, 850, 966, 1083, 1200], 'max_features': ['auto', 'sqrt'], 'max_depth': [10, 20, 30, 40, 50, 60, 70, 80, 90, 100, 110, None], 'min_samples_split': [2, 5, 10, 15, 100], 'min_samples_leaf': [1, 2, 5, 10]},\n",
       "          pre_dispatch='2*n_jobs', random_state=42, refit=True,\n",
       "          return_train_score='warn', scoring='neg_mean_squared_error',\n",
       "          verbose=2)"
      ]
     },
     "execution_count": 84,
     "metadata": {},
     "output_type": "execute_result"
    }
   ],
   "source": [
    "rf_random.fit(x_train,y_train)"
   ]
  },
  {
   "cell_type": "code",
   "execution_count": 85,
   "metadata": {},
   "outputs": [],
   "source": [
    "y_pred_rf=rf_random.predict(x_test)"
   ]
  },
  {
   "cell_type": "code",
   "execution_count": 90,
   "metadata": {},
   "outputs": [
    {
     "data": {
      "text/plain": [
       "0.0    14381\n",
       "1.0     4777\n",
       "Name: target, dtype: int64"
      ]
     },
     "execution_count": 90,
     "metadata": {},
     "output_type": "execute_result"
    }
   ],
   "source": [
    "df['target'].value_counts()"
   ]
  },
  {
   "cell_type": "code",
   "execution_count": 86,
   "metadata": {},
   "outputs": [
    {
     "data": {
      "text/plain": [
       "array([[1382,  103],\n",
       "       [ 157,  149]], dtype=int64)"
      ]
     },
     "execution_count": 86,
     "metadata": {},
     "output_type": "execute_result"
    }
   ],
   "source": [
    "confusion_matrix(y_test, y_pred_rf)"
   ]
  },
  {
   "cell_type": "code",
   "execution_count": 91,
   "metadata": {},
   "outputs": [],
   "source": [
    "def draw_cm( actual, predicted ):\n",
    "    cm = metrics.confusion_matrix( actual, predicted, [1,0] )\n",
    "    sns.heatmap(cm, annot=True,  fmt='.2f', xticklabels = [\"Job change\", \"No change\"] , yticklabels = [\"Job change\", \"No change\"] )\n",
    "    plt.ylabel('True label')\n",
    "    plt.xlabel('Predicted label')\n",
    "    plt.show()  # correct 0 is sensitivity and correct is specificity"
   ]
  },
  {
   "cell_type": "code",
   "execution_count": 92,
   "metadata": {},
   "outputs": [
    {
     "data": {
      "image/png": "[encoded data removed]",
      "text/plain": [
       "<Figure size 432x288 with 2 Axes>"
      ]
     },
     "metadata": {
      "needs_background": "light"
     },
     "output_type": "display_data"
    }
   ],
   "source": [
    "draw_cm( y_test, y_pred_rf)"
   ]
  },
  {
   "cell_type": "code",
   "execution_count": 75,
   "metadata": {},
   "outputs": [],
   "source": [
    "def draw_roc( actual, probs ):\n",
    "    fpr, tpr, thresholds = metrics.roc_curve( actual, probs,\n",
    "                                              drop_intermediate = False )\n",
    "    auc_score = metrics.roc_auc_score( actual, probs )\n",
    "    plt.figure(figsize=(6, 4))\n",
    "    plt.plot( fpr, tpr, label='ROC curve (area = %0.2f)' % auc_score )\n",
    "    plt.plot([0, 1], [0, 1], 'k--')\n",
    "    plt.xlim([0.0, 1.0])\n",
    "    plt.ylim([0.0, 1.05])\n",
    "    plt.xlabel('False Positive Rate or [1 - True Negative Rate]')\n",
    "    plt.ylabel('True Positive Rate')\n",
    "    plt.title('Receiver operating characteristic example')\n",
    "    plt.legend(loc=\"lower right\")\n",
    "    plt.show()\n",
    "\n",
    "    return fpr, tpr, thresholds"
   ]
  },
  {
   "cell_type": "code",
   "execution_count": 94,
   "metadata": {},
   "outputs": [],
   "source": [
    "y_pred_prob_rf=rf_random.predict_proba(x_test)[:,1]"
   ]
  },
  {
   "cell_type": "code",
   "execution_count": 96,
   "metadata": {},
   "outputs": [
    {
     "data": {
      "image/png": "[encoded data removed]",
      "text/plain": [
       "<Figure size 432x288 with 1 Axes>"
      ]
     },
     "metadata": {
      "needs_background": "light"
     },
     "output_type": "display_data"
    }
   ],
   "source": [
    "fpr, tpr, thresholds = draw_roc( y_test,y_pred_prob_rf)"
   ]
  },
  {
   "cell_type": "code",
   "execution_count": 101,
   "metadata": {},
   "outputs": [],
   "source": [
    "predictions= rf_random.predict(x_cv)"
   ]
  },
  {
   "cell_type": "code",
   "execution_count": 102,
   "metadata": {},
   "outputs": [
    {
     "data": {
      "text/html": [
       "<div>\n",
       "<style scoped>\n",
       "    .dataframe tbody tr th:only-of-type {\n",
       "        vertical-align: middle;\n",
       "    }\n",
       "\n",
       "    .dataframe tbody tr th {\n",
       "        vertical-align: top;\n",
       "    }\n",
       "\n",
       "    .dataframe thead th {\n",
       "        text-align: right;\n",
       "    }\n",
       "</style>\n",
       "<table border=\"1\" class=\"dataframe\">\n",
       "  <thead>\n",
       "    <tr style=\"text-align: right;\">\n",
       "      <th></th>\n",
       "      <th>enrollee_id</th>\n",
       "      <th>city</th>\n",
       "      <th>city_development_index</th>\n",
       "      <th>gender</th>\n",
       "      <th>relevent_experience</th>\n",
       "      <th>enrolled_university</th>\n",
       "      <th>education_level</th>\n",
       "      <th>major_discipline</th>\n",
       "      <th>experience</th>\n",
       "      <th>company_size</th>\n",
       "      <th>company_type</th>\n",
       "      <th>last_new_job</th>\n",
       "      <th>training_hours</th>\n",
       "    </tr>\n",
       "  </thead>\n",
       "  <tbody>\n",
       "    <tr>\n",
       "      <th>0</th>\n",
       "      <td>27385</td>\n",
       "      <td>10</td>\n",
       "      <td>0.827</td>\n",
       "      <td>1.0</td>\n",
       "      <td>1</td>\n",
       "      <td>0.0</td>\n",
       "      <td>1.0</td>\n",
       "      <td>0.0</td>\n",
       "      <td>11.0</td>\n",
       "      <td>1.0</td>\n",
       "      <td>0.0</td>\n",
       "      <td>1.0</td>\n",
       "      <td>39</td>\n",
       "    </tr>\n",
       "    <tr>\n",
       "      <th>1</th>\n",
       "      <td>27724</td>\n",
       "      <td>0</td>\n",
       "      <td>0.920</td>\n",
       "      <td>1.0</td>\n",
       "      <td>1</td>\n",
       "      <td>0.0</td>\n",
       "      <td>0.0</td>\n",
       "      <td>0.0</td>\n",
       "      <td>21.0</td>\n",
       "      <td>4.0</td>\n",
       "      <td>0.0</td>\n",
       "      <td>5.0</td>\n",
       "      <td>72</td>\n",
       "    </tr>\n",
       "    <tr>\n",
       "      <th>2</th>\n",
       "      <td>9272</td>\n",
       "      <td>27</td>\n",
       "      <td>0.698</td>\n",
       "      <td>1.0</td>\n",
       "      <td>1</td>\n",
       "      <td>0.0</td>\n",
       "      <td>0.0</td>\n",
       "      <td>0.0</td>\n",
       "      <td>20.0</td>\n",
       "      <td>1.0</td>\n",
       "      <td>0.0</td>\n",
       "      <td>2.0</td>\n",
       "      <td>51</td>\n",
       "    </tr>\n",
       "    <tr>\n",
       "      <th>3</th>\n",
       "      <td>14249</td>\n",
       "      <td>7</td>\n",
       "      <td>0.762</td>\n",
       "      <td>1.0</td>\n",
       "      <td>1</td>\n",
       "      <td>0.0</td>\n",
       "      <td>0.0</td>\n",
       "      <td>0.0</td>\n",
       "      <td>8.0</td>\n",
       "      <td>2.0</td>\n",
       "      <td>3.0</td>\n",
       "      <td>0.0</td>\n",
       "      <td>48</td>\n",
       "    </tr>\n",
       "    <tr>\n",
       "      <th>4</th>\n",
       "      <td>7865</td>\n",
       "      <td>2</td>\n",
       "      <td>0.624</td>\n",
       "      <td>1.0</td>\n",
       "      <td>1</td>\n",
       "      <td>0.0</td>\n",
       "      <td>1.0</td>\n",
       "      <td>0.0</td>\n",
       "      <td>4.0</td>\n",
       "      <td>2.0</td>\n",
       "      <td>0.0</td>\n",
       "      <td>1.0</td>\n",
       "      <td>4</td>\n",
       "    </tr>\n",
       "  </tbody>\n",
       "</table>\n",
       "</div>"
      ],
      "text/plain": [
       "   enrollee_id  city  city_development_index  gender  relevent_experience  \\\n",
       "0        27385    10                   0.827     1.0                    1   \n",
       "1        27724     0                   0.920     1.0                    1   \n",
       "2         9272    27                   0.698     1.0                    1   \n",
       "3        14249     7                   0.762     1.0                    1   \n",
       "4         7865     2                   0.624     1.0                    1   \n",
       "\n",
       "   enrolled_university  education_level  major_discipline  experience  \\\n",
       "0                  0.0              1.0               0.0        11.0   \n",
       "1                  0.0              0.0               0.0        21.0   \n",
       "2                  0.0              0.0               0.0        20.0   \n",
       "3                  0.0              0.0               0.0         8.0   \n",
       "4                  0.0              1.0               0.0         4.0   \n",
       "\n",
       "   company_size  company_type  last_new_job  training_hours  \n",
       "0           1.0           0.0           1.0              39  \n",
       "1           4.0           0.0           5.0              72  \n",
       "2           1.0           0.0           2.0              51  \n",
       "3           2.0           3.0           0.0              48  \n",
       "4           2.0           0.0           1.0               4  "
      ]
     },
     "execution_count": 102,
     "metadata": {},
     "output_type": "execute_result"
    }
   ],
   "source": [
    "test.head()"
   ]
  },
  {
   "cell_type": "code",
   "execution_count": 104,
   "metadata": {},
   "outputs": [
    {
     "data": {
      "text/html": [
       "<div>\n",
       "<style scoped>\n",
       "    .dataframe tbody tr th:only-of-type {\n",
       "        vertical-align: middle;\n",
       "    }\n",
       "\n",
       "    .dataframe tbody tr th {\n",
       "        vertical-align: top;\n",
       "    }\n",
       "\n",
       "    .dataframe thead th {\n",
       "        text-align: right;\n",
       "    }\n",
       "</style>\n",
       "<table border=\"1\" class=\"dataframe\">\n",
       "  <thead>\n",
       "    <tr style=\"text-align: right;\">\n",
       "      <th></th>\n",
       "      <th>enrollee_id</th>\n",
       "      <th>target</th>\n",
       "    </tr>\n",
       "  </thead>\n",
       "  <tbody>\n",
       "    <tr>\n",
       "      <th>0</th>\n",
       "      <td>27385</td>\n",
       "      <td>0.0</td>\n",
       "    </tr>\n",
       "    <tr>\n",
       "      <th>1</th>\n",
       "      <td>27724</td>\n",
       "      <td>0.0</td>\n",
       "    </tr>\n",
       "    <tr>\n",
       "      <th>2</th>\n",
       "      <td>9272</td>\n",
       "      <td>0.0</td>\n",
       "    </tr>\n",
       "    <tr>\n",
       "      <th>3</th>\n",
       "      <td>14249</td>\n",
       "      <td>0.0</td>\n",
       "    </tr>\n",
       "    <tr>\n",
       "      <th>4</th>\n",
       "      <td>7865</td>\n",
       "      <td>1.0</td>\n",
       "    </tr>\n",
       "    <tr>\n",
       "      <th>5</th>\n",
       "      <td>7463</td>\n",
       "      <td>0.0</td>\n",
       "    </tr>\n",
       "    <tr>\n",
       "      <th>6</th>\n",
       "      <td>25202</td>\n",
       "      <td>0.0</td>\n",
       "    </tr>\n",
       "    <tr>\n",
       "      <th>7</th>\n",
       "      <td>23570</td>\n",
       "      <td>0.0</td>\n",
       "    </tr>\n",
       "    <tr>\n",
       "      <th>8</th>\n",
       "      <td>9548</td>\n",
       "      <td>0.0</td>\n",
       "    </tr>\n",
       "    <tr>\n",
       "      <th>9</th>\n",
       "      <td>17189</td>\n",
       "      <td>1.0</td>\n",
       "    </tr>\n",
       "    <tr>\n",
       "      <th>10</th>\n",
       "      <td>28610</td>\n",
       "      <td>0.0</td>\n",
       "    </tr>\n",
       "    <tr>\n",
       "      <th>11</th>\n",
       "      <td>22139</td>\n",
       "      <td>0.0</td>\n",
       "    </tr>\n",
       "    <tr>\n",
       "      <th>12</th>\n",
       "      <td>19644</td>\n",
       "      <td>0.0</td>\n",
       "    </tr>\n",
       "    <tr>\n",
       "      <th>13</th>\n",
       "      <td>12835</td>\n",
       "      <td>0.0</td>\n",
       "    </tr>\n",
       "    <tr>\n",
       "      <th>14</th>\n",
       "      <td>25855</td>\n",
       "      <td>0.0</td>\n",
       "    </tr>\n",
       "  </tbody>\n",
       "</table>\n",
       "</div>"
      ],
      "text/plain": [
       "    enrollee_id  target\n",
       "0         27385     0.0\n",
       "1         27724     0.0\n",
       "2          9272     0.0\n",
       "3         14249     0.0\n",
       "4          7865     1.0\n",
       "5          7463     0.0\n",
       "6         25202     0.0\n",
       "7         23570     0.0\n",
       "8          9548     0.0\n",
       "9         17189     1.0\n",
       "10        28610     0.0\n",
       "11        22139     0.0\n",
       "12        19644     0.0\n",
       "13        12835     0.0\n",
       "14        25855     0.0"
      ]
     },
     "execution_count": 104,
     "metadata": {},
     "output_type": "execute_result"
    }
   ],
   "source": [
    "#Create a  DataFrame\n",
    "submission = pd.DataFrame({'enrollee_id':test['enrollee_id'],'target':predictions})\n",
    "                        \n",
    "\n",
    "#Visualize the first 10 rows\n",
    "submission.head(15)"
   ]
  },
  {
   "cell_type": "code",
   "execution_count": 106,
   "metadata": {},
   "outputs": [],
   "source": [
    "submission.to_csv('submission.csv', index=False)"
   ]
  },
  {
   "cell_type": "code",
   "execution_count": 108,
   "metadata": {},
   "outputs": [
    {
     "data": {
      "text/html": [
       "<div>\n",
       "<style scoped>\n",
       "    .dataframe tbody tr th:only-of-type {\n",
       "        vertical-align: middle;\n",
       "    }\n",
       "\n",
       "    .dataframe tbody tr th {\n",
       "        vertical-align: top;\n",
       "    }\n",
       "\n",
       "    .dataframe thead th {\n",
       "        text-align: right;\n",
       "    }\n",
       "</style>\n",
       "<table border=\"1\" class=\"dataframe\">\n",
       "  <thead>\n",
       "    <tr style=\"text-align: right;\">\n",
       "      <th></th>\n",
       "      <th>enrollee_id</th>\n",
       "      <th>target</th>\n",
       "    </tr>\n",
       "  </thead>\n",
       "  <tbody>\n",
       "    <tr>\n",
       "      <th>0</th>\n",
       "      <td>27385</td>\n",
       "      <td>0.0</td>\n",
       "    </tr>\n",
       "    <tr>\n",
       "      <th>1</th>\n",
       "      <td>27724</td>\n",
       "      <td>0.0</td>\n",
       "    </tr>\n",
       "    <tr>\n",
       "      <th>2</th>\n",
       "      <td>9272</td>\n",
       "      <td>0.0</td>\n",
       "    </tr>\n",
       "    <tr>\n",
       "      <th>3</th>\n",
       "      <td>14249</td>\n",
       "      <td>0.0</td>\n",
       "    </tr>\n",
       "    <tr>\n",
       "      <th>4</th>\n",
       "      <td>7865</td>\n",
       "      <td>1.0</td>\n",
       "    </tr>\n",
       "  </tbody>\n",
       "</table>\n",
       "</div>"
      ],
      "text/plain": [
       "   enrollee_id  target\n",
       "0        27385     0.0\n",
       "1        27724     0.0\n",
       "2         9272     0.0\n",
       "3        14249     0.0\n",
       "4         7865     1.0"
      ]
     },
     "execution_count": 108,
     "metadata": {},
     "output_type": "execute_result"
    }
   ],
   "source": [
    "pd.read_csv('submission.csv').head()"
   ]
  },
  {
   "cell_type": "code",
   "execution_count": null,
   "metadata": {},
   "outputs": [],
   "source": []
  }
 ],
 "metadata": {
  "kernelspec": {
   "display_name": "Python 3",
   "language": "python",
   "name": "python3"
  },
  "language_info": {
   "codemirror_mode": {
    "name": "ipython",
    "version": 3
   },
   "file_extension": ".py",
   "mimetype": "text/x-python",
   "name": "python",
   "nbconvert_exporter": "python",
   "pygments_lexer": "ipython3",
   "version": "3.7.1"
  }
 },
 "nbformat": 4,
 "nbformat_minor": 2
}
